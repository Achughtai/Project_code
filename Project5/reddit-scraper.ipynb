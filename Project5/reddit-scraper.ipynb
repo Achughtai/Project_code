{
 "cells": [
  {
   "cell_type": "code",
   "execution_count": 268,
   "metadata": {},
   "outputs": [],
   "source": [
    "import praw\n",
    "import pandas as pd\n",
    "import datetime as dt\n",
    "import numpy as np\n",
    "\n",
    "from prawcore.exceptions import ResponseException"
   ]
  },
  {
   "cell_type": "code",
   "execution_count": 82,
   "metadata": {},
   "outputs": [
    {
     "data": {
      "text/plain": [
       "'7.3.1.dev0'"
      ]
     },
     "execution_count": 82,
     "metadata": {},
     "output_type": "execute_result"
    }
   ],
   "source": [
    "praw.__version__"
   ]
  },
  {
   "cell_type": "code",
   "execution_count": 90,
   "metadata": {},
   "outputs": [],
   "source": [
    "credentials = {\n",
    "    'client_id': 'VZYeZpFxLzluoPNeOP6OkA',\n",
    "    'client_secret': '4a7mjI2QrXyfyp1mLB_HYE7NFjSAgw',\n",
    "    'user_agent': 'android:com.example.myredditapp:v1.2.3 (by u/aimanChughtai3132131)',\n",
    "#     'username': \"34Calculator456Tomato\",\n",
    "#     'password': \"redditscraper1239768\"\n",
    "}"
   ]
  },
  {
   "cell_type": "code",
   "execution_count": 91,
   "metadata": {},
   "outputs": [],
   "source": [
    "reddit = praw.Reddit(**credentials)"
   ]
  },
  {
   "cell_type": "code",
   "execution_count": 86,
   "metadata": {},
   "outputs": [
    {
     "name": "stderr",
     "output_type": "stream",
     "text": [
      "<ipython-input-86-fef504bd16af>:1: DeprecationWarning: The `None` return value is deprecated, and will raise a `ReadOnlyException` beginning with PRAW 8. See documentation for forward compatibility options.\n",
      "  reddit.user.me()\n"
     ]
    }
   ],
   "source": [
    "reddit.user.me()"
   ]
  },
  {
   "cell_type": "markdown",
   "metadata": {},
   "source": [
    "## Practice"
   ]
  },
  {
   "cell_type": "code",
   "execution_count": 96,
   "metadata": {},
   "outputs": [],
   "source": [
    "# assign subreddit of interest\n",
    "subreddit = reddit.subreddit(\"all\")"
   ]
  },
  {
   "cell_type": "code",
   "execution_count": 107,
   "metadata": {
    "collapsed": true
   },
   "outputs": [
    {
     "name": "stdout",
     "output_type": "stream",
     "text": [
      "[['57.8% of healthcare professionals suffered mental disorders during COVID-19 first wave. The research indicates that the moral courage shown by healthcare professionals to face the first wave was one of the factors that increased the risk of suffering from mental illness.', 11207, 'om0llr', Subreddit(display_name='science'), 'https://www.mdpi.com/1660-4601/18/14/7235', 498, <praw.models.comment_forest.CommentForest object at 0x7f8c83dff4c0>, '', 1626540445.0], ['COVID-19 among fully vaccinated people in LA County [OC]', 22727, 'olvh4p', Subreddit(display_name='dataisbeautiful'), 'https://i.imgur.com/J42Ev7E.jpg', 1631, <praw.models.comment_forest.CommentForest object at 0x7f8ca09ec5b0>, '', 1626517223.0], ['Keeping my promise to take her to the beach after having to cancel last year due to covid', 74147, 'olob1l', Subreddit(display_name='pics'), 'https://i.redd.it/dqc9sl9tnmb71.jpg', 1364, <praw.models.comment_forest.CommentForest object at 0x7f8c903ab640>, '', 1626493072.0], ['‘Bridgerton’: Netflix Shuts Down Season 2 Shoot For Second Time After Another Covid Case', 1821, 'om4ani', Subreddit(display_name='television'), 'https://deadline.com/2021/07/bridgerton-netflix-season-2-shoot-paused-second-covid-case-1234794969/', 166, <praw.models.comment_forest.CommentForest object at 0x7f8c8812ad30>, '', 1626557441.0], ['Prime Minister Bettel, recently recovered and still weakened from Covid, stands amidst the flood that has destroyed large parts of Luxembourg', 4234, 'om0f55', Subreddit(display_name='europe'), 'https://i.redd.it/1c1qbazshqb71.jpg', 183, <praw.models.comment_forest.CommentForest object at 0x7f8c60114c70>, '', 1626539479.0], ['‘They’re killing people’: Biden condemns Facebook over spread of Covid disinformation', 32042, 'olohjn', Subreddit(display_name='politics'), 'https://www.independent.co.uk/news/world/americas/us-politics/biden-facebook-covid-vaccine-disinformation-b1885648.html', 1965, <praw.models.comment_forest.CommentForest object at 0x7f8c84053df0>, '', 1626493620.0], ['Gia tested positive for COVID. Bianca reacts.', 4860, 'olye1o', Subreddit(display_name='rupaulsdragrace'), 'https://i.redd.it/1a1wmcltnpb71.jpg', 337, <praw.models.comment_forest.CommentForest object at 0x7f8c840cd0a0>, '', 1626529395.0], ['My brother tested positive for covid-19, and his teacher sent us some books, a drawing, and this letter ❤️', 6018, 'olxd96', Subreddit(display_name='Genshin_Impact'), 'https://i.redd.it/3s0ornkaapb71.jpg', 101, <praw.models.comment_forest.CommentForest object at 0x7f8c84116700>, '', 1626524845.0], ['God will protect me from COVID-19.', 1670, 'om1wpw', Subreddit(display_name='Jokes'), 'https://www.reddit.com/r/Jokes/comments/om1wpw/god_will_protect_me_from_covid19/', 94, <praw.models.comment_forest.CommentForest object at 0x7f8c84148400>, \"A good Christian man walked into Walmart and was offered a mask by the store greeter. The man politely declined saying God would protect him from Covid. Later the man went to his doctor for a routine check up. The doctor told him everything is fine and they also have all three different types of the Covid vaccine if he would like one. Again the man politely declined saying God would protect him from Covid. A few weeks later the man fell very ill. He went back to his doctor and to his disbelief was diagnosed with Covid and admitted to the hospital. After days of holding on he finally fell victim to his illness. When the man reached the gates of heaven God was there waiting for him. The man asked God why he didn't protect him from Covid? God looked at him and said, I had people offer you free masks and three different vaccines to choose from you dummy. Also you're going to have to quarantine in hell for a few weeks.\", 1626547404.0], [\"Celebrity tests positive for COVID after saying that it's a hoax and complaining about it. Additional info in comments\", 867, 'om4528', Subreddit(display_name='LeopardsAteMyFace'), 'https://i.redd.it/bvbikf2bxrb71.jpg', 69, <praw.models.comment_forest.CommentForest object at 0x7f8c50388610>, '', 1626556879.0]]\n"
     ]
    }
   ],
   "source": [
    "# Select first N=10 posts from subreddit, and add them to a \"posts\" list\n",
    "# which match the text search provided\n",
    "posts = []\n",
    "\n",
    "for post in subreddit.search(\"covid\", limit=10):\n",
    "    posts.append([post.title, post.score, post.id, post.subreddit, post.url, post.num_comments, post.comments, post.selftext, post.created])\n",
    "\n",
    "# print posts\n",
    "print(posts)"
   ]
  },
  {
   "cell_type": "code",
   "execution_count": 104,
   "metadata": {},
   "outputs": [],
   "source": [
    "post_df = pd.DataFrame(posts,columns=['title', 'score', 'id', 'subreddit', 'url', 'num_comments', 'body', 'created'])"
   ]
  },
  {
   "cell_type": "code",
   "execution_count": 166,
   "metadata": {},
   "outputs": [],
   "source": [
    "posts = []\n",
    "\n",
    "for post in subreddit.search(\"covid\", limit=100):\n",
    "    posts.append(post)"
   ]
  },
  {
   "cell_type": "code",
   "execution_count": 167,
   "metadata": {},
   "outputs": [
    {
     "data": {
      "text/plain": [
       "[Submission(id='om0llr'),\n",
       " Submission(id='olvh4p'),\n",
       " Submission(id='olob1l'),\n",
       " Submission(id='om4ani'),\n",
       " Submission(id='om0f55'),\n",
       " Submission(id='olohjn'),\n",
       " Submission(id='olye1o'),\n",
       " Submission(id='olxd96'),\n",
       " Submission(id='om1wpw'),\n",
       " Submission(id='om72m4'),\n",
       " Submission(id='om4528'),\n",
       " Submission(id='om1nwy'),\n",
       " Submission(id='om6rcq'),\n",
       " Submission(id='om21oc'),\n",
       " Submission(id='om168c'),\n",
       " Submission(id='om41mi'),\n",
       " Submission(id='om3xja'),\n",
       " Submission(id='om5wb4'),\n",
       " Submission(id='om3k5x'),\n",
       " Submission(id='olu8n5'),\n",
       " Submission(id='om3jix'),\n",
       " Submission(id='om1ork'),\n",
       " Submission(id='olz90x'),\n",
       " Submission(id='om05ps'),\n",
       " Submission(id='om75pu'),\n",
       " Submission(id='om59u9'),\n",
       " Submission(id='olyl7r'),\n",
       " Submission(id='om0hjo'),\n",
       " Submission(id='om2wte'),\n",
       " Submission(id='olsa51'),\n",
       " Submission(id='olp4cc'),\n",
       " Submission(id='om3kf7'),\n",
       " Submission(id='om6qos'),\n",
       " Submission(id='om8t39'),\n",
       " Submission(id='oliit0'),\n",
       " Submission(id='olq5a7'),\n",
       " Submission(id='olyiw6'),\n",
       " Submission(id='olwvuh'),\n",
       " Submission(id='om3g65'),\n",
       " Submission(id='olyluu'),\n",
       " Submission(id='olp8gb'),\n",
       " Submission(id='om1py7'),\n",
       " Submission(id='om54au'),\n",
       " Submission(id='olyhm6'),\n",
       " Submission(id='om7c14'),\n",
       " Submission(id='om1705'),\n",
       " Submission(id='om5m53'),\n",
       " Submission(id='om527g'),\n",
       " Submission(id='om531b'),\n",
       " Submission(id='olz125'),\n",
       " Submission(id='om5tvi'),\n",
       " Submission(id='om2nak'),\n",
       " Submission(id='om2paz'),\n",
       " Submission(id='olo186'),\n",
       " Submission(id='om262w'),\n",
       " Submission(id='om7hxf'),\n",
       " Submission(id='om4hl8'),\n",
       " Submission(id='om524i'),\n",
       " Submission(id='om6s6f'),\n",
       " Submission(id='om1xn3'),\n",
       " Submission(id='om89ka'),\n",
       " Submission(id='olmin2'),\n",
       " Submission(id='olqgtf'),\n",
       " Submission(id='olsc2j'),\n",
       " Submission(id='om1w8r'),\n",
       " Submission(id='olpkli'),\n",
       " Submission(id='om7g7f'),\n",
       " Submission(id='om2u3j'),\n",
       " Submission(id='om2k51'),\n",
       " Submission(id='om7hc4'),\n",
       " Submission(id='om8d64'),\n",
       " Submission(id='om26sh'),\n",
       " Submission(id='om19xk'),\n",
       " Submission(id='om0it2'),\n",
       " Submission(id='om7om9'),\n",
       " Submission(id='olzb11'),\n",
       " Submission(id='oljjp0'),\n",
       " Submission(id='om7g46'),\n",
       " Submission(id='om5wpf'),\n",
       " Submission(id='om75yr'),\n",
       " Submission(id='om5xuu'),\n",
       " Submission(id='om2ja3'),\n",
       " Submission(id='om4tkt'),\n",
       " Submission(id='om7zcr'),\n",
       " Submission(id='olyf3f'),\n",
       " Submission(id='om5jdq'),\n",
       " Submission(id='om41m1'),\n",
       " Submission(id='om3afq'),\n",
       " Submission(id='om1uqf'),\n",
       " Submission(id='om484m'),\n",
       " Submission(id='om4ya2'),\n",
       " Submission(id='olwnca'),\n",
       " Submission(id='om90sm'),\n",
       " Submission(id='om4734'),\n",
       " Submission(id='om4ys1'),\n",
       " Submission(id='om82xz'),\n",
       " Submission(id='om79sm'),\n",
       " Submission(id='om57co'),\n",
       " Submission(id='om0isy'),\n",
       " Submission(id='om8ud9')]"
      ]
     },
     "execution_count": 167,
     "metadata": {},
     "output_type": "execute_result"
    }
   ],
   "source": [
    "posts"
   ]
  },
  {
   "cell_type": "code",
   "execution_count": 170,
   "metadata": {},
   "outputs": [
    {
     "name": "stdout",
     "output_type": "stream",
     "text": [
      "\n",
      "\n",
      "\n",
      "\n",
      "\n",
      "\n",
      "\n",
      "\n",
      "A good Christian man walked into Walmart and was offered a mask by the store greeter. The man politely declined saying God would protect him from Covid. Later the man went to his doctor for a routine check up. The doctor told him everything is fine and they also have all three different types of the Covid vaccine if he would like one. Again the man politely declined saying God would protect him from Covid. A few weeks later the man fell very ill. He went back to his doctor and to his disbelief was diagnosed with Covid and admitted to the hospital. After days of holding on he finally fell victim to his illness. When the man reached the gates of heaven God was there waiting for him. The man asked God why he didn't protect him from Covid? God looked at him and said, I had people offer you free masks and three different vaccines to choose from you dummy. Also you're going to have to quarantine in hell for a few weeks.\n",
      "\n",
      "\n",
      "\n",
      "\n",
      "\n",
      "\n",
      "\n",
      "Also I lost the 2 days a week my stepmom was watching my 1 year old. And I never got a penny from FL Unemployment, not for lack of trying. \n",
      "\n",
      "This was in April. We’re doing better now, but I haven’t spoken to my dad since.\n",
      "\n",
      "\n",
      "\n",
      "\n",
      "\n",
      "\n",
      "\n",
      "\n",
      "\n",
      "\n",
      "\n",
      "\n",
      "\n",
      "\n",
      "\n",
      "\n",
      "\n",
      "\n",
      "\n",
      "\n",
      "\n",
      "\n",
      "\n",
      "Sorry for the rant, I just feel lost and hopeless. \n",
      "\n",
      "Early 2020, I had just been promoted at my company. I was 26, and was building a solid career. I had expendable income and my paychecks were more money than I ever thought I would have.\n",
      "\n",
      "Fast forward to April 2020, our company decided to lay off 150 people. Of course I was chosen. I was told I would be given a severance and I could reapply when the position was posted again. \n",
      "\n",
      "At this point I was stuck in a HCOL area with no job. Decided to cut my lease that I signed the month prior to move back in with my parents to save money. Halfway across the country. To get out of my lease was most of my severance. \n",
      "\n",
      "I have been painting houses to get by until I can get back into the field I tried to build a career in. Even re applied to my old position only to be told that I wasn’t a good fit anymore. Applied to many other companies in the same field and I’ve been turned down time and again. \n",
      "\n",
      "Being 27 and living at home is depressing. I’m trying to get my life started but all this shit sent me back to the drawing board. Corporations don’t care, landlords don’t care. \n",
      "\n",
      "Just got denied in another interview today. I must keep trying but I’m barely scraping by right now with bills and student loans, even with living at home. Hopefully this turns around. Everyone out there in this situation, I feel for you, and thinking of you and hoping things change.\n",
      "\n",
      "*All data gets pulled between ~9 - 10 AM every morning for consistency. Vaccination Tracker and OPH update later in the day and will not always match what's here, especially after 11 AM.*\n",
      "\n",
      "**[Vaccination info](https://covid19tracker.ca/vaccinationtracker.html)**\n",
      "\n",
      "**Ottawa (Updated Tuesday, Thursday, Saturday.)**\n",
      "\n",
      "* 1,289,773  total shots given in Ottawa.  \n",
      "* 94% of doses administered.\n",
      "* 82/60% of ages 12+ have received one/two doses.\n",
      "* 72/52% of all people in Ottawa have received one dose/two doses.\n",
      "\n",
      "**Ontario**    \n",
      "\n",
      "* 169,103 total, 20,390/148,713 1st/2nd shots given yesterday.\n",
      "* 83.8% of doses administered.\n",
      "* 79.121/58.598% of ages 12+ have received one/two doses.\n",
      "* 69.185/51.239% of all people in Ontario have received one dose/two doses.\n",
      "\n",
      "\n",
      "**Canada**\n",
      "\n",
      "* 44,726,461 total shots given in Canada.\n",
      "* 79.642/55.083%  of ages 12+ have received one/two doses.\n",
      "* 69.339/47.957% of the Canadian population has received one dose/two doses.\n",
      "\n",
      "\n",
      "\n",
      "***\n",
      "\n",
      "**[COVID-19 Cases](https://docs.google.com/spreadsheets/d/1E28C0ylUQ0hHgFySFpXtdjX_LkdY5tlhl-nt0SGhCDg/edit?usp=sharing)**\n",
      "\n",
      "\n",
      "|PHU\t|Cases Per 100k/7d\t|Cases| \n",
      "|:--|--:|--:|\n",
      "Toronto PHU\t|\t6.1\t|\t  37 \n",
      "Peel\t|\t6.1\t|\t  20 \n",
      "Waterloo Region\t|\t29.4\t|\t  20 \n",
      "Grey Bruce\t|\t80.6\t|\t  15 \n",
      "York\t|\t2.8\t|\t  11 \n",
      "Halton\t|\t6.6\t|\t10\n",
      "Wellington-Guelph\t|\t16.7\t|\t10\n",
      "Hamilton\t|\t9.6\t|\t  9 \n",
      "Durham\t|\t3.6\t|\t7\n",
      "Ottawa\t|\t0.9\t|\t6\n",
      "London\t|\t11.8\t|\t6\n",
      "\n",
      "All other PHUs reporting 5 or fewer cases.\n",
      "\n",
      "\n",
      "[Add RES to your browser for clickable table headers.](https://www.reddit.com/r/Enhancement/)\n",
      "\n",
      "\n",
      "\n",
      "***\n",
      "\n",
      "\n",
      "\n",
      "**Ottawa specific info:**\n",
      "\n",
      "**[Updated Daily](https://www.ottawapublichealth.ca/en/reports-research-and-statistics/daily-covid19-dashboard.aspx)**\n",
      "\n",
      "* 7d rolling average: 2 (-).\n",
      "* Active cases: 21 (-1).\n",
      "* Rt rate: 0.44 (-0.09).\n",
      "* Current hospitalizations: 0 (-), ICU: 0 (-).\n",
      "\n",
      "**No death(s) reported in Ottawa.**\n",
      "\n",
      "\n",
      "\n",
      "**[Ottawa Testing (Updated Tuesday - Saturday)](https://www.ottawatestingupdate.ca/)**\n",
      "\n",
      "* 1,979 tests performed.\n",
      "* 0.1% (-0.7%) positive rate *(July 9 - July 15)*.\n",
      "* Backlog is 520.\n",
      "* Average turnaround time for a high priority test was 13H.\n",
      "* Average turnaround time for all tests was 20H.\n",
      "\n",
      "\n",
      "**[Poop Chart](https://613covid.ca/wastewater/)**\n",
      "\n",
      "* Daily Viral Signal on July 14: 140µ.\n",
      "* 7d Average: 112µ  *trending: steady*.\n",
      "* Vaccines do not affect these numbers.\n",
      "\n",
      "\n",
      "**[Variants of Concern](https://files.ontario.ca/moh-covid-19-report-en-2021-07-17.pdf)** *These numbers lag by about a month.*\n",
      " \n",
      "* B.1.1.7 (Alpha): +0 (6,815)\n",
      "* B.1.351 (Beta): +0 (514)\n",
      "* P.1 (Gamma): +0 (54)\n",
      "* B.1.617.2  (Delta): +2 (28)\n",
      "\n",
      "\n",
      "\n",
      "\n",
      "***\n",
      "**[Ontario specific info:](https://docs.google.com/spreadsheets/d/1E28C0ylUQ0hHgFySFpXtdjX_LkdY5tlhl-nt0SGhCDg/edit?usp=sharing)**\n",
      "\n",
      "\n",
      "\n",
      "* 7d rolling average: 151 (-).\n",
      "* Active cases: 1,373 (-30).\n",
      "* Rt rate: 0.90 (+0.03).\n",
      "* 21,392 tests performed, 0.82% (+0.25%) positive rate.\n",
      "* 7d average for positive rate: 0.65% (+0.01%).\n",
      "* Backlog is:  6,800 (-1,904).\n",
      "* Current hospitalizations: 143 (-16), ICUs: 149 (-9), Ventilated: 109 (-3).\n",
      "\n",
      "**[Variants of Concern](https://files.ontario.ca/moh-covid-19-report-en-2021-07-17.pdf)** *These numbers lag by about a month.*\n",
      "\n",
      "* B.1.1.7 (Alpha): +11 (144,792)\n",
      "* B.1.351 (Beta): +0 (1,465)\n",
      "* P.1 (Gamma): +1 (4,951)\n",
      "* B.1.617.2 (Delta): +132  (3,282) \n",
      " \n",
      "\n",
      "***\n",
      "\n",
      "**All sources**\n",
      "\n",
      "* [Daily provincial report](https://files.ontario.ca/moh-covid-19-report-en-2021-07-17.pdf)\n",
      "* [Provincial dashboard](https://docs.google.com/spreadsheets/d/1E28C0ylUQ0hHgFySFpXtdjX_LkdY5tlhl-nt0SGhCDg/edit?usp=sharing)\n",
      "* [OPH COVID-19 Dashboard](https://www.ottawapublichealth.ca/en/reports-research-and-statistics/daily-covid19-dashboard.aspx)\n",
      "* [OPH Vaccination Dashboard](https://www.ottawapublichealth.ca/en/reports-research-and-statistics/COVID-19_Vaccination_Dashboard.aspx)\n",
      "* [Ottawa Testing Taskforce report](https://www.ottawatestingupdate.ca/)\n",
      "* [Rt rates](https://twitter.com/imgrund)\n",
      "* [Poop Chart](https://613covid.ca/wastewater/)\n",
      "* [VaccinationTracker](https://covid19tracker.ca/vaccinationtracker.html)\n",
      "* [Ontario vaccination percentages](https://data.ontario.ca/dataset/covid-19-vaccine-data-in-ontario/resource/775ca815-5028-4e9b-9dd4-6975ff1be021)\n",
      "* [Ontario dose info](https://data.ontario.ca/dataset/covid-19-vaccine-data-in-ontario/resource/8a89caa9-511c-4568-af89-7f2174b4378c)\n",
      "\n",
      "***\n",
      "\n",
      "[Donation link for those who've asked.](https://parkdalefoodcentre.ca/donate-2/)\n",
      "\n",
      "\n",
      "\n",
      "\n",
      "\n",
      "\n",
      "\n",
      "\n",
      "\n",
      "\n",
      "\n",
      "\n",
      "\n",
      "\n",
      "\n",
      "From my understanding, COVID-19 is in the “SARS family” of viruses. Wouldnt that mean scientists developing the vaccine already had tons of research to look at because we already had a SARS outbreak before?\n",
      "\n",
      "Or was research on covid basically starting from scratch?\n",
      "\n",
      "\n",
      "A lad got sent home from work on one day, couldn’t move out of the bed on the next day, got tested then went to a pub last night before his results came back because he felt a bit better and got the positive text today. He’s after infecting possibly 100+ people. Very, very selfish stupid people all around us. The indoor pint brigade can downvote this all they want, it doesn’t make it any less true\n",
      "\n",
      "\n",
      "\n",
      "\n",
      "\n",
      "\n",
      "\n",
      "\n",
      "\n",
      "\n",
      "\n",
      "\n",
      "\n",
      "\n",
      "\n",
      "\n",
      "Mine is “a simple piece of cloth”. It just fills me with rage, lol.\n",
      "\n",
      "There is an absolute groundswell of these stupid things… which one pisses you off the most? 😆\n",
      "\n",
      "\n",
      "\n",
      "\n",
      "\n",
      "\n",
      "Get your god damn vaccines if you haven’t already. The delta variant is literally statistically spreading and killing those who are unvaccinated the most. Like wtf are you doing if you’re not vaccinated??? \n",
      "\n",
      "I guess as Darwin said, the fittest(ie. the most logical who get their fucking vaccine) survive, and you know what happens to the rest…\n",
      "\n",
      "Note: if you aren’t vaccinated cause of medical reasons that’s fine, but everyone else, get your god damn vaccines so we can go back to campus!!!\n",
      "\n",
      "\n",
      "\n",
      "\n",
      "\n",
      "\n",
      "\n",
      "\n",
      "I told someone this a few months ago and I'm pretty sure their brain short circuited. \n",
      "\n",
      "Just a reminder to always tell the truth. Saying the unvaccinated (a strange word for \"our countrymen\") are causing mask mandates to come back is a lie. The government is causing more mandates (decrees that have not gone through legislation) and they will be the ones causing the passports too. None of this would be an issue if they'd just chill.\n",
      "\n",
      "\n",
      "\n",
      "\n",
      "https://amp.cnn.com/cnn/2021/07/16/politics/biden-facebook-covid-19/index.html?__twitter_impression=true&s=09\n",
      "\n"
     ]
    }
   ],
   "source": [
    "for post in posts:\n",
    "    print(post.selftext)"
   ]
  },
  {
   "cell_type": "code",
   "execution_count": 163,
   "metadata": {},
   "outputs": [
    {
     "data": {
      "text/plain": [
       "Submission(id='olvh4p')"
      ]
     },
     "execution_count": 163,
     "metadata": {},
     "output_type": "execute_result"
    }
   ],
   "source": [
    "single_post = posts[1]\n",
    "single_post"
   ]
  },
  {
   "cell_type": "code",
   "execution_count": 153,
   "metadata": {},
   "outputs": [
    {
     "data": {
      "text/plain": [
       "<praw.models.comment_forest.CommentForest at 0x7f8c845bedf0>"
      ]
     },
     "execution_count": 153,
     "metadata": {},
     "output_type": "execute_result"
    }
   ],
   "source": [
    "single_post."
   ]
  },
  {
   "cell_type": "code",
   "execution_count": 154,
   "metadata": {},
   "outputs": [
    {
     "data": {
      "text/plain": [
       "[Comment(id='h5ivifo'),\n",
       " Comment(id='h5imeaj'),\n",
       " Comment(id='h5j0qg5'),\n",
       " Comment(id='h5j5dy8'),\n",
       " Comment(id='h5iyp23'),\n",
       " Comment(id='h5j4lh5'),\n",
       " Comment(id='h5ig0de'),\n",
       " Comment(id='h5hxit7'),\n",
       " Comment(id='h5i2814'),\n",
       " Comment(id='h5jd52e'),\n",
       " Comment(id='h5iawhe'),\n",
       " Comment(id='h5i0itw'),\n",
       " Comment(id='h5i3a5m'),\n",
       " Comment(id='h5iac18'),\n",
       " Comment(id='h5i1et6'),\n",
       " Comment(id='h5hxju3'),\n",
       " Comment(id='h5j1se7'),\n",
       " Comment(id='h5ibmcd'),\n",
       " Comment(id='h5icvqg'),\n",
       " Comment(id='h5io028'),\n",
       " Comment(id='h5iwm0i'),\n",
       " Comment(id='h5iiuzx'),\n",
       " Comment(id='h5ilaof'),\n",
       " Comment(id='h5ib2r4'),\n",
       " Comment(id='h5iqljh'),\n",
       " Comment(id='h5inqnm'),\n",
       " Comment(id='h5izb4r'),\n",
       " Comment(id='h5j6bzp'),\n",
       " Comment(id='h5j79hz'),\n",
       " Comment(id='h5je030'),\n",
       " Comment(id='h5jfqxr'),\n",
       " Comment(id='h5jg7mz'),\n",
       " Comment(id='h5jgodh'),\n",
       " Comment(id='h5j6wlj'),\n",
       " Comment(id='h5iiwlk'),\n",
       " Comment(id='h5irfo9'),\n",
       " Comment(id='h5j574u'),\n",
       " Comment(id='h5j5yvv'),\n",
       " Comment(id='h5j7oun'),\n",
       " Comment(id='h5ixl34'),\n",
       " Comment(id='h5jc5zr'),\n",
       " Comment(id='h5ixwcq'),\n",
       " Comment(id='h5jcko8'),\n",
       " Comment(id='h5jehhj'),\n",
       " Comment(id='h5jexip'),\n",
       " Comment(id='h5iz6v3'),\n",
       " Comment(id='h5j5433'),\n",
       " Comment(id='h5jhpqu'),\n",
       " Comment(id='h5jj1f7'),\n",
       " Comment(id='h5j17k6'),\n",
       " Comment(id='h5j8rhp'),\n",
       " Comment(id='h5jj268'),\n",
       " Comment(id='h5jbr35'),\n",
       " Comment(id='h5jci5z'),\n",
       " Comment(id='h5j5ntm'),\n",
       " Comment(id='h5iu97b'),\n",
       " Comment(id='h5ie5kd'),\n",
       " Comment(id='h5i1dxh'),\n",
       " Comment(id='h5ig6zo'),\n",
       " Comment(id='h5hzd7a'),\n",
       " Comment(id='h5ioypi'),\n",
       " Comment(id='h5itv9p'),\n",
       " Comment(id='h5io76u'),\n",
       " Comment(id='h5jeap5'),\n",
       " Comment(id='h5iz8d7'),\n",
       " Comment(id='h5j4ac3'),\n",
       " Comment(id='h5iioi5'),\n",
       " Comment(id='h5j5qlk'),\n",
       " Comment(id='h5jaly3'),\n",
       " Comment(id='h5jdo7i'),\n",
       " Comment(id='h5i5s2j'),\n",
       " Comment(id='h5i7fmj'),\n",
       " Comment(id='h5iw4tf'),\n",
       " Comment(id='h5iuzpo'),\n",
       " Comment(id='h5ip1ll'),\n",
       " Comment(id='h5i5gkn'),\n",
       " Comment(id='h5i4rsz'),\n",
       " Comment(id='h5i8wqz'),\n",
       " Comment(id='h5igh0j'),\n",
       " Comment(id='h5icv0a'),\n",
       " Comment(id='h5hzitx'),\n",
       " Comment(id='h5hyh5k'),\n",
       " Comment(id='h5jc9pz'),\n",
       " Comment(id='h5ik1n0'),\n",
       " Comment(id='h5ikuxs'),\n",
       " Comment(id='h5ixqn9'),\n",
       " Comment(id='h5iq6x5'),\n",
       " Comment(id='h5iegkj'),\n",
       " Comment(id='h5j5rsv'),\n",
       " Comment(id='h5jbwqe'),\n",
       " Comment(id='h5j4pwl'),\n",
       " Comment(id='h5j1cst'),\n",
       " Comment(id='h5j5l8k'),\n",
       " Comment(id='h5je9gi'),\n",
       " Comment(id='h5j8gs4'),\n",
       " Comment(id='h5jcaj2'),\n",
       " Comment(id='h5jdvyc'),\n",
       " Comment(id='h5jaac8'),\n",
       " Comment(id='h5jh0m1'),\n",
       " Comment(id='h5jcle5'),\n",
       " Comment(id='h5j7jsr'),\n",
       " Comment(id='h5jdlf2'),\n",
       " Comment(id='h5ipup3'),\n",
       " Comment(id='h5jchjo'),\n",
       " Comment(id='h5inuon'),\n",
       " Comment(id='h5iy9lc'),\n",
       " Comment(id='h5iq2u2'),\n",
       " Comment(id='h5itdes'),\n",
       " Comment(id='h5jga86'),\n",
       " Comment(id='h5j5wag'),\n",
       " Comment(id='h5i3dbn'),\n",
       " Comment(id='h5i2k8b'),\n",
       " Comment(id='h5i6e2m'),\n",
       " Comment(id='h5i3mk5'),\n",
       " Comment(id='h5igscm'),\n",
       " Comment(id='h5jcrf5'),\n",
       " Comment(id='h5j0vps'),\n",
       " Comment(id='h5j5fgy'),\n",
       " Comment(id='h5j6j49'),\n",
       " Comment(id='h5jd4ua'),\n",
       " Comment(id='h5iz2uc'),\n",
       " Comment(id='h5ibvz5'),\n",
       " Comment(id='h5i9or8'),\n",
       " Comment(id='h5iwz6k'),\n",
       " Comment(id='h5j5e8l'),\n",
       " Comment(id='h5jdhst'),\n",
       " Comment(id='h5i824d'),\n",
       " Comment(id='h5j4ad4'),\n",
       " Comment(id='h5j4c17'),\n",
       " Comment(id='h5ib192'),\n",
       " Comment(id='h5iz7k9'),\n",
       " Comment(id='h5iedxn'),\n",
       " Comment(id='h5ihwd8'),\n",
       " Comment(id='h5ifq4r'),\n",
       " Comment(id='h5i453v'),\n",
       " Comment(id='h5j1ijj'),\n",
       " Comment(id='h5ilabu'),\n",
       " Comment(id='h5jd4fk'),\n",
       " Comment(id='h5iy4gx'),\n",
       " Comment(id='h5j6l9o'),\n",
       " Comment(id='h5je6jm'),\n",
       " Comment(id='h5jhggr'),\n",
       " Comment(id='h5is3uu'),\n",
       " Comment(id='h5j6px0'),\n",
       " Comment(id='h5iptjm'),\n",
       " Comment(id='h5iu3fl'),\n",
       " Comment(id='h5iecu4'),\n",
       " Comment(id='h5igeh9'),\n",
       " Comment(id='h5j13in'),\n",
       " Comment(id='h5j2xer'),\n",
       " Comment(id='h5j8py5'),\n",
       " Comment(id='h5iicab'),\n",
       " Comment(id='h5ibdwq'),\n",
       " Comment(id='h5icitn'),\n",
       " Comment(id='h5ieehg'),\n",
       " Comment(id='h5idb8u'),\n",
       " Comment(id='h5j6w70'),\n",
       " Comment(id='h5if7nu'),\n",
       " Comment(id='h5ijbsz'),\n",
       " Comment(id='h5infjq'),\n",
       " Comment(id='h5jeyzu'),\n",
       " Comment(id='h5j73mj'),\n",
       " Comment(id='h5jjl78'),\n",
       " Comment(id='h5iu8lu'),\n",
       " Comment(id='h5iwmqh'),\n",
       " Comment(id='h5j2thl'),\n",
       " Comment(id='h5j1sd8'),\n",
       " Comment(id='h5jb5h9'),\n",
       " Comment(id='h5jjahe'),\n",
       " Comment(id='h5j8034'),\n",
       " Comment(id='h5iew25'),\n",
       " Comment(id='h5iovvm'),\n",
       " Comment(id='h5j4gcm'),\n",
       " Comment(id='h5jcf7p'),\n",
       " Comment(id='h5ic4v6'),\n",
       " Comment(id='h5ik7ez'),\n",
       " Comment(id='h5inj8s'),\n",
       " Comment(id='h5j8y0w'),\n",
       " Comment(id='h5ivp5c'),\n",
       " Comment(id='h5ixwvt'),\n",
       " Comment(id='h5jakk9'),\n",
       " Comment(id='h5ihffo'),\n",
       " Comment(id='h5j59nm'),\n",
       " Comment(id='h5ickzk'),\n",
       " Comment(id='h5in3k2'),\n",
       " Comment(id='h5ip1fl'),\n",
       " Comment(id='h5j8zuw'),\n",
       " Comment(id='h5inp1v'),\n",
       " Comment(id='h5jiamh'),\n",
       " Comment(id='h5j3bbt'),\n",
       " Comment(id='h5j7k3d'),\n",
       " Comment(id='h5iyr9k'),\n",
       " Comment(id='h5iiy5l'),\n",
       " Comment(id='h5ifm64'),\n",
       " Comment(id='h5jf9y9'),\n",
       " Comment(id='h5jac3v'),\n",
       " Comment(id='h5ijahw'),\n",
       " Comment(id='h5ir2iw'),\n",
       " Comment(id='h5jj199'),\n",
       " Comment(id='h5jj7tz')]"
      ]
     },
     "execution_count": 154,
     "metadata": {},
     "output_type": "execute_result"
    }
   ],
   "source": [
    "single_post.comments.list()"
   ]
  },
  {
   "cell_type": "code",
   "execution_count": 155,
   "metadata": {},
   "outputs": [],
   "source": [
    "comment = single_post.comments.list()[0]"
   ]
  },
  {
   "cell_type": "code",
   "execution_count": 156,
   "metadata": {},
   "outputs": [
    {
     "data": {
      "text/plain": [
       "(Redditor(name='Mick_86'),\n",
       " \"Do not walk in flood water. \\n\\nA. It's basically sewage. \\nB. Even shallow floodwater can sweep you off your feet. \\nC. The water can lift manhole covers into which the unwary will fall.\")"
      ]
     },
     "execution_count": 156,
     "metadata": {},
     "output_type": "execute_result"
    }
   ],
   "source": [
    "comment.author, comment.body"
   ]
  },
  {
   "cell_type": "code",
   "execution_count": 175,
   "metadata": {},
   "outputs": [
    {
     "data": {
      "text/plain": [
       "0"
      ]
     },
     "execution_count": 175,
     "metadata": {},
     "output_type": "execute_result"
    }
   ],
   "source": [
    "comment."
   ]
  },
  {
   "cell_type": "code",
   "execution_count": 165,
   "metadata": {},
   "outputs": [],
   "source": [
    "single_post."
   ]
  },
  {
   "cell_type": "code",
   "execution_count": 125,
   "metadata": {},
   "outputs": [
    {
     "data": {
      "text/plain": [
       "[<MoreComments count=2, children=['h5jazcc', 'h5hy2vr']>]"
      ]
     },
     "execution_count": 125,
     "metadata": {},
     "output_type": "execute_result"
    }
   ],
   "source": [
    "comment.replies.list()"
   ]
  },
  {
   "cell_type": "markdown",
   "metadata": {},
   "source": [
    "## Using Praw to scrape post titles, post body, comments, timestamps etc"
   ]
  },
  {
   "cell_type": "code",
   "execution_count": 272,
   "metadata": {},
   "outputs": [],
   "source": [
    "#creating an empty list to store post title, body, comments, timestamps, upvote ratio, ups, downs, \n",
    "#score and poster id\n",
    "\n",
    "rows = []"
   ]
  },
  {
   "cell_type": "code",
   "execution_count": 273,
   "metadata": {},
   "outputs": [],
   "source": [
    "#looping to gather post details from each post, limited to 2000 total posts\n",
    "\n",
    "for post in subreddit.search(\"covid-19 vaccine myths\", limit=2000):\n",
    "    \n",
    "    post_id = post.id\n",
    "    post_title = post.title\n",
    "    post_score = post.score\n",
    "    post_created_utc = post.created_utc\n",
    "    post_upvote_ratio = post.upvote_ratio\n",
    "    post_selftext = post.selftext\n",
    "\n",
    "    if post.selftext == '':          #including this step to bypass posts with memes or posts with no text\n",
    "        continue\n",
    "\n",
    "    \n",
    "    for comment in post.comments.list():         #for every comment under a post, collect these details\n",
    "        \n",
    "        try:\n",
    "            rows.append([\n",
    "                post_id, \n",
    "                post_title, \n",
    "                post_score,\n",
    "                post_created_utc,\n",
    "                post_upvote_ratio,\n",
    "                post_selftext,\n",
    "                comment.id,\n",
    "                comment.body,\n",
    "                comment.created_utc,\n",
    "                comment.ups,\n",
    "                comment.downs\n",
    "            ])\n",
    "        except AttributeError:                 #to bypass any attribute assignment that fails\n",
    "            pass"
   ]
  },
  {
   "cell_type": "code",
   "execution_count": 275,
   "metadata": {},
   "outputs": [
    {
     "data": {
      "text/plain": [
       "2817"
      ]
     },
     "execution_count": 275,
     "metadata": {},
     "output_type": "execute_result"
    }
   ],
   "source": [
    "len(rows)"
   ]
  },
  {
   "cell_type": "code",
   "execution_count": 276,
   "metadata": {},
   "outputs": [],
   "source": [
    "columns = [\n",
    "    'post_id', \n",
    "    'post_title', \n",
    "    'post_score',\n",
    "    'post_created_utc',\n",
    "    'post_upvote_ratio',\n",
    "    'post_selftext',\n",
    "    'comment_id',\n",
    "    'comment_body',\n",
    "    'comment_created_utc',\n",
    "    'comment_ups',\n",
    "    'comment_downs'\n",
    "]"
   ]
  },
  {
   "cell_type": "code",
   "execution_count": 289,
   "metadata": {},
   "outputs": [],
   "source": [
    "rows_df = pd.DataFrame(rows, columns=columns)  "
   ]
  },
  {
   "cell_type": "code",
   "execution_count": 290,
   "metadata": {},
   "outputs": [
    {
     "data": {
      "text/html": [
       "<div>\n",
       "<style scoped>\n",
       "    .dataframe tbody tr th:only-of-type {\n",
       "        vertical-align: middle;\n",
       "    }\n",
       "\n",
       "    .dataframe tbody tr th {\n",
       "        vertical-align: top;\n",
       "    }\n",
       "\n",
       "    .dataframe thead th {\n",
       "        text-align: right;\n",
       "    }\n",
       "</style>\n",
       "<table border=\"1\" class=\"dataframe\">\n",
       "  <thead>\n",
       "    <tr style=\"text-align: right;\">\n",
       "      <th></th>\n",
       "      <th>post_id</th>\n",
       "      <th>post_title</th>\n",
       "      <th>post_score</th>\n",
       "      <th>post_created_utc</th>\n",
       "      <th>post_upvote_ratio</th>\n",
       "      <th>post_selftext</th>\n",
       "      <th>comment_id</th>\n",
       "      <th>comment_body</th>\n",
       "      <th>comment_created_utc</th>\n",
       "      <th>comment_ups</th>\n",
       "      <th>comment_downs</th>\n",
       "    </tr>\n",
       "  </thead>\n",
       "  <tbody>\n",
       "    <tr>\n",
       "      <th>0</th>\n",
       "      <td>ogslgq</td>\n",
       "      <td>COVID-19 Vaccine Myths and Conspiracy Theories</td>\n",
       "      <td>0</td>\n",
       "      <td>1.625826e+09</td>\n",
       "      <td>0.36</td>\n",
       "      <td>There have been many misconceptions, conspira...</td>\n",
       "      <td>h4le9is</td>\n",
       "      <td>Impressive, if you just say the word \"debunked...</td>\n",
       "      <td>1.625841e+09</td>\n",
       "      <td>8</td>\n",
       "      <td>0</td>\n",
       "    </tr>\n",
       "    <tr>\n",
       "      <th>1</th>\n",
       "      <td>ogslgq</td>\n",
       "      <td>COVID-19 Vaccine Myths and Conspiracy Theories</td>\n",
       "      <td>0</td>\n",
       "      <td>1.625826e+09</td>\n",
       "      <td>0.36</td>\n",
       "      <td>There have been many misconceptions, conspira...</td>\n",
       "      <td>h4lgsqm</td>\n",
       "      <td>Here is another common myth:\\n\\n1. The COVID-1...</td>\n",
       "      <td>1.625842e+09</td>\n",
       "      <td>4</td>\n",
       "      <td>0</td>\n",
       "    </tr>\n",
       "  </tbody>\n",
       "</table>\n",
       "</div>"
      ],
      "text/plain": [
       "  post_id                                      post_title  post_score  \\\n",
       "0  ogslgq  COVID-19 Vaccine Myths and Conspiracy Theories           0   \n",
       "1  ogslgq  COVID-19 Vaccine Myths and Conspiracy Theories           0   \n",
       "\n",
       "   post_created_utc  post_upvote_ratio  \\\n",
       "0      1.625826e+09               0.36   \n",
       "1      1.625826e+09               0.36   \n",
       "\n",
       "                                       post_selftext comment_id  \\\n",
       "0   There have been many misconceptions, conspira...    h4le9is   \n",
       "1   There have been many misconceptions, conspira...    h4lgsqm   \n",
       "\n",
       "                                        comment_body  comment_created_utc  \\\n",
       "0  Impressive, if you just say the word \"debunked...         1.625841e+09   \n",
       "1  Here is another common myth:\\n\\n1. The COVID-1...         1.625842e+09   \n",
       "\n",
       "   comment_ups  comment_downs  \n",
       "0            8              0  \n",
       "1            4              0  "
      ]
     },
     "execution_count": 290,
     "metadata": {},
     "output_type": "execute_result"
    }
   ],
   "source": [
    "rows_df.head(2)"
   ]
  },
  {
   "cell_type": "code",
   "execution_count": 291,
   "metadata": {},
   "outputs": [
    {
     "data": {
      "text/plain": [
       "51"
      ]
     },
     "execution_count": 291,
     "metadata": {},
     "output_type": "execute_result"
    }
   ],
   "source": [
    "rows_df.post_title.nunique()       "
   ]
  },
  {
   "cell_type": "code",
   "execution_count": 292,
   "metadata": {},
   "outputs": [
    {
     "data": {
      "text/plain": [
       "(2817, 11)"
      ]
     },
     "execution_count": 292,
     "metadata": {},
     "output_type": "execute_result"
    }
   ],
   "source": [
    "rows_df.shape"
   ]
  },
  {
   "cell_type": "code",
   "execution_count": 294,
   "metadata": {},
   "outputs": [],
   "source": [
    "#convert timestamp columns to ints \n",
    "\n",
    "rows_df['comment_created_utc'] = (rows_df['comment_created_utc']).astype(np.int64)\n",
    "rows_df['post_created_utc'] = (rows_df['post_created_utc']).astype(np.int64)\n"
   ]
  },
  {
   "cell_type": "code",
   "execution_count": 295,
   "metadata": {},
   "outputs": [],
   "source": [
    "#convert to datetime object\n",
    "\n",
    "rows_df['comment_created_utc'] = pd.to_datetime(rows_df['comment_created_utc'],unit='s')\n",
    "rows_df['post_created_utc'] = pd.to_datetime(rows_df['post_created_utc'],unit='s')\n",
    "\n"
   ]
  },
  {
   "cell_type": "code",
   "execution_count": 296,
   "metadata": {},
   "outputs": [],
   "source": [
    "#rename columns\n",
    "\n",
    "rows_df.rename(columns={'post_created_utc':'post_timestamp'}, inplace=True)\n",
    "rows_df.rename(columns={'comment_created_utc':'comment_timestamp'}, inplace=True)\n"
   ]
  },
  {
   "cell_type": "code",
   "execution_count": 298,
   "metadata": {},
   "outputs": [
    {
     "data": {
      "text/html": [
       "<div>\n",
       "<style scoped>\n",
       "    .dataframe tbody tr th:only-of-type {\n",
       "        vertical-align: middle;\n",
       "    }\n",
       "\n",
       "    .dataframe tbody tr th {\n",
       "        vertical-align: top;\n",
       "    }\n",
       "\n",
       "    .dataframe thead th {\n",
       "        text-align: right;\n",
       "    }\n",
       "</style>\n",
       "<table border=\"1\" class=\"dataframe\">\n",
       "  <thead>\n",
       "    <tr style=\"text-align: right;\">\n",
       "      <th></th>\n",
       "      <th>post_id</th>\n",
       "      <th>post_title</th>\n",
       "      <th>post_score</th>\n",
       "      <th>post_timestamp</th>\n",
       "      <th>post_upvote_ratio</th>\n",
       "      <th>post_selftext</th>\n",
       "      <th>comment_id</th>\n",
       "      <th>comment_body</th>\n",
       "      <th>comment_timestamp</th>\n",
       "      <th>comment_ups</th>\n",
       "      <th>comment_downs</th>\n",
       "    </tr>\n",
       "  </thead>\n",
       "  <tbody>\n",
       "    <tr>\n",
       "      <th>2812</th>\n",
       "      <td>mdbqjz</td>\n",
       "      <td>It’s time to leave evangelical Christianity</td>\n",
       "      <td>8</td>\n",
       "      <td>2021-03-25 23:48:12</td>\n",
       "      <td>0.83</td>\n",
       "      <td>I really didn’t want to write this, but I thin...</td>\n",
       "      <td>gsjwo94</td>\n",
       "      <td>because I love pro wrestling</td>\n",
       "      <td>2021-03-28 04:55:48</td>\n",
       "      <td>2</td>\n",
       "      <td>0</td>\n",
       "    </tr>\n",
       "    <tr>\n",
       "      <th>2813</th>\n",
       "      <td>mdbqjz</td>\n",
       "      <td>It’s time to leave evangelical Christianity</td>\n",
       "      <td>8</td>\n",
       "      <td>2021-03-25 23:48:12</td>\n",
       "      <td>0.83</td>\n",
       "      <td>I really didn’t want to write this, but I thin...</td>\n",
       "      <td>gsjwkes</td>\n",
       "      <td>I Don't get it either new nothing about him wa...</td>\n",
       "      <td>2021-03-28 04:54:34</td>\n",
       "      <td>1</td>\n",
       "      <td>0</td>\n",
       "    </tr>\n",
       "    <tr>\n",
       "      <th>2814</th>\n",
       "      <td>mdbqjz</td>\n",
       "      <td>It’s time to leave evangelical Christianity</td>\n",
       "      <td>8</td>\n",
       "      <td>2021-03-25 23:48:12</td>\n",
       "      <td>0.83</td>\n",
       "      <td>I really didn’t want to write this, but I thin...</td>\n",
       "      <td>gyj3s7z</td>\n",
       "      <td>Right lol</td>\n",
       "      <td>2021-05-18 03:57:09</td>\n",
       "      <td>1</td>\n",
       "      <td>0</td>\n",
       "    </tr>\n",
       "    <tr>\n",
       "      <th>2815</th>\n",
       "      <td>mdbqjz</td>\n",
       "      <td>It’s time to leave evangelical Christianity</td>\n",
       "      <td>8</td>\n",
       "      <td>2021-03-25 23:48:12</td>\n",
       "      <td>0.83</td>\n",
       "      <td>I really didn’t want to write this, but I thin...</td>\n",
       "      <td>gscgtn4</td>\n",
       "      <td>I rather wait and see what happens, honestly. ...</td>\n",
       "      <td>2021-03-26 22:11:27</td>\n",
       "      <td>2</td>\n",
       "      <td>0</td>\n",
       "    </tr>\n",
       "    <tr>\n",
       "      <th>2816</th>\n",
       "      <td>mdbqjz</td>\n",
       "      <td>It’s time to leave evangelical Christianity</td>\n",
       "      <td>8</td>\n",
       "      <td>2021-03-25 23:48:12</td>\n",
       "      <td>0.83</td>\n",
       "      <td>I really didn’t want to write this, but I thin...</td>\n",
       "      <td>gsckcow</td>\n",
       "      <td>That’s fair enough. And, honestly, I can under...</td>\n",
       "      <td>2021-03-26 22:35:40</td>\n",
       "      <td>2</td>\n",
       "      <td>0</td>\n",
       "    </tr>\n",
       "  </tbody>\n",
       "</table>\n",
       "</div>"
      ],
      "text/plain": [
       "     post_id                                   post_title  post_score  \\\n",
       "2812  mdbqjz  It’s time to leave evangelical Christianity           8   \n",
       "2813  mdbqjz  It’s time to leave evangelical Christianity           8   \n",
       "2814  mdbqjz  It’s time to leave evangelical Christianity           8   \n",
       "2815  mdbqjz  It’s time to leave evangelical Christianity           8   \n",
       "2816  mdbqjz  It’s time to leave evangelical Christianity           8   \n",
       "\n",
       "          post_timestamp  post_upvote_ratio  \\\n",
       "2812 2021-03-25 23:48:12               0.83   \n",
       "2813 2021-03-25 23:48:12               0.83   \n",
       "2814 2021-03-25 23:48:12               0.83   \n",
       "2815 2021-03-25 23:48:12               0.83   \n",
       "2816 2021-03-25 23:48:12               0.83   \n",
       "\n",
       "                                          post_selftext comment_id  \\\n",
       "2812  I really didn’t want to write this, but I thin...    gsjwo94   \n",
       "2813  I really didn’t want to write this, but I thin...    gsjwkes   \n",
       "2814  I really didn’t want to write this, but I thin...    gyj3s7z   \n",
       "2815  I really didn’t want to write this, but I thin...    gscgtn4   \n",
       "2816  I really didn’t want to write this, but I thin...    gsckcow   \n",
       "\n",
       "                                           comment_body   comment_timestamp  \\\n",
       "2812                       because I love pro wrestling 2021-03-28 04:55:48   \n",
       "2813  I Don't get it either new nothing about him wa... 2021-03-28 04:54:34   \n",
       "2814                                          Right lol 2021-05-18 03:57:09   \n",
       "2815  I rather wait and see what happens, honestly. ... 2021-03-26 22:11:27   \n",
       "2816  That’s fair enough. And, honestly, I can under... 2021-03-26 22:35:40   \n",
       "\n",
       "      comment_ups  comment_downs  \n",
       "2812            2              0  \n",
       "2813            1              0  \n",
       "2814            1              0  \n",
       "2815            2              0  \n",
       "2816            2              0  "
      ]
     },
     "execution_count": 298,
     "metadata": {},
     "output_type": "execute_result"
    }
   ],
   "source": [
    "rows_df.tail()"
   ]
  },
  {
   "cell_type": "code",
   "execution_count": 286,
   "metadata": {},
   "outputs": [
    {
     "name": "stdout",
     "output_type": "stream",
     "text": [
      "<class 'pandas.core.frame.DataFrame'>\n",
      "RangeIndex: 2817 entries, 0 to 2816\n",
      "Data columns (total 11 columns):\n",
      " #   Column             Non-Null Count  Dtype         \n",
      "---  ------             --------------  -----         \n",
      " 0   post_id            2817 non-null   object        \n",
      " 1   post_title         2817 non-null   object        \n",
      " 2   post_score         2817 non-null   int64         \n",
      " 3   post_timestamp     2817 non-null   datetime64[ns]\n",
      " 4   post_upvote_ratio  2817 non-null   float64       \n",
      " 5   post_selftext      2817 non-null   object        \n",
      " 6   comment_id         2817 non-null   object        \n",
      " 7   comment_body       2817 non-null   object        \n",
      " 8   comment_timestamp  2817 non-null   datetime64[ns]\n",
      " 9   comment_ups        2817 non-null   int64         \n",
      " 10  comment_downs      2817 non-null   int64         \n",
      "dtypes: datetime64[ns](2), float64(1), int64(3), object(5)\n",
      "memory usage: 242.2+ KB\n"
     ]
    }
   ],
   "source": [
    "rows_df.info()"
   ]
  },
  {
   "cell_type": "code",
   "execution_count": 300,
   "metadata": {},
   "outputs": [
    {
     "data": {
      "text/plain": [
       "array(['2021-07-09T10:12:50.000000000', '2021-07-17T20:38:33.000000000',\n",
       "       '2021-07-15T19:54:47.000000000', '2021-07-16T03:50:55.000000000',\n",
       "       '2021-07-12T16:52:21.000000000', '2021-07-12T02:03:17.000000000',\n",
       "       '2021-07-10T16:09:26.000000000', '2021-07-09T19:11:11.000000000',\n",
       "       '2021-07-05T13:37:11.000000000', '2021-07-03T08:04:23.000000000',\n",
       "       '2021-06-24T01:38:29.000000000', '2021-06-20T15:59:09.000000000',\n",
       "       '2021-06-21T14:32:25.000000000', '2021-06-18T13:18:33.000000000',\n",
       "       '2021-06-17T13:39:19.000000000', '2021-06-17T13:58:35.000000000',\n",
       "       '2021-06-14T17:22:01.000000000', '2021-06-10T21:43:43.000000000',\n",
       "       '2021-06-06T15:08:58.000000000', '2021-05-31T22:28:52.000000000',\n",
       "       '2021-05-30T15:07:57.000000000', '2021-05-27T11:02:59.000000000',\n",
       "       '2021-05-27T11:00:18.000000000', '2021-05-18T22:29:05.000000000',\n",
       "       '2021-05-17T23:20:16.000000000', '2021-05-18T00:23:36.000000000',\n",
       "       '2021-04-30T15:38:28.000000000', '2021-05-07T04:46:22.000000000',\n",
       "       '2021-05-06T19:49:54.000000000', '2021-05-05T17:55:14.000000000',\n",
       "       '2021-05-04T08:46:20.000000000', '2021-04-30T08:36:20.000000000',\n",
       "       '2021-04-30T20:18:00.000000000', '2021-04-30T16:03:00.000000000',\n",
       "       '2021-04-29T14:32:14.000000000', '2021-04-28T20:32:52.000000000',\n",
       "       '2021-04-28T16:51:38.000000000', '2021-04-28T15:24:03.000000000',\n",
       "       '2021-04-25T01:32:54.000000000', '2021-04-23T19:31:24.000000000',\n",
       "       '2021-04-19T14:38:36.000000000', '2021-04-15T06:55:59.000000000',\n",
       "       '2021-04-15T00:33:50.000000000', '2021-04-10T13:53:39.000000000',\n",
       "       '2021-04-09T22:18:19.000000000', '2021-04-09T02:41:03.000000000',\n",
       "       '2021-04-08T15:40:53.000000000', '2021-04-07T13:22:11.000000000',\n",
       "       '2021-04-03T05:55:53.000000000', '2021-03-18T17:24:37.000000000',\n",
       "       '2021-03-26T19:23:23.000000000', '2021-03-25T23:48:12.000000000'],\n",
       "      dtype='datetime64[ns]')"
      ]
     },
     "execution_count": 300,
     "metadata": {},
     "output_type": "execute_result"
    }
   ],
   "source": [
    "rows_df['post_timestamp'].unique()         \n",
    "\n",
    "#posts collected span between March 2021-July 2021, \n",
    "#which makes sense since this is when the largest amount of vaccines were distributed by this point"
   ]
  },
  {
   "cell_type": "code",
   "execution_count": 301,
   "metadata": {},
   "outputs": [],
   "source": [
    "rows_df.to_csv('reddit_covid_vaccine_myths.csv', index=False)"
   ]
  }
 ],
 "metadata": {
  "kernelspec": {
   "display_name": "Python 3",
   "language": "python",
   "name": "python3"
  },
  "language_info": {
   "codemirror_mode": {
    "name": "ipython",
    "version": 3
   },
   "file_extension": ".py",
   "mimetype": "text/x-python",
   "name": "python",
   "nbconvert_exporter": "python",
   "pygments_lexer": "ipython3",
   "version": "3.8.5"
  }
 },
 "nbformat": 4,
 "nbformat_minor": 4
}
