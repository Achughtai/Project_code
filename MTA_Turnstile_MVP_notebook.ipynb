{
 "cells": [
  {
   "cell_type": "code",
   "execution_count": 41,
   "metadata": {},
   "outputs": [
    {
     "name": "stdout",
     "output_type": "stream",
     "text": [
      "Reading file : http://web.mta.info/developers/data/nyct/turnstile/turnstile_190201.txt\n",
      "Reading file : http://web.mta.info/developers/data/nyct/turnstile/turnstile_190202.txt\n",
      "Complete\n",
      "Reading file : http://web.mta.info/developers/data/nyct/turnstile/turnstile_190203.txt\n",
      "Reading file : http://web.mta.info/developers/data/nyct/turnstile/turnstile_190204.txt\n",
      "Reading file : http://web.mta.info/developers/data/nyct/turnstile/turnstile_190205.txt\n",
      "Reading file : http://web.mta.info/developers/data/nyct/turnstile/turnstile_190206.txt\n",
      "Reading file : http://web.mta.info/developers/data/nyct/turnstile/turnstile_190207.txt\n",
      "Reading file : http://web.mta.info/developers/data/nyct/turnstile/turnstile_190208.txt\n",
      "Reading file : http://web.mta.info/developers/data/nyct/turnstile/turnstile_190209.txt\n",
      "Complete\n",
      "Reading file : http://web.mta.info/developers/data/nyct/turnstile/turnstile_190210.txt\n",
      "Reading file : http://web.mta.info/developers/data/nyct/turnstile/turnstile_190211.txt\n",
      "Reading file : http://web.mta.info/developers/data/nyct/turnstile/turnstile_190212.txt\n",
      "Reading file : http://web.mta.info/developers/data/nyct/turnstile/turnstile_190213.txt\n",
      "Reading file : http://web.mta.info/developers/data/nyct/turnstile/turnstile_190214.txt\n",
      "Reading file : http://web.mta.info/developers/data/nyct/turnstile/turnstile_190215.txt\n",
      "Reading file : http://web.mta.info/developers/data/nyct/turnstile/turnstile_190216.txt\n",
      "Complete\n",
      "Reading file : http://web.mta.info/developers/data/nyct/turnstile/turnstile_190217.txt\n",
      "Reading file : http://web.mta.info/developers/data/nyct/turnstile/turnstile_190218.txt\n",
      "Reading file : http://web.mta.info/developers/data/nyct/turnstile/turnstile_190219.txt\n",
      "Reading file : http://web.mta.info/developers/data/nyct/turnstile/turnstile_190220.txt\n",
      "Reading file : http://web.mta.info/developers/data/nyct/turnstile/turnstile_190221.txt\n",
      "Reading file : http://web.mta.info/developers/data/nyct/turnstile/turnstile_190222.txt\n",
      "Reading file : http://web.mta.info/developers/data/nyct/turnstile/turnstile_190223.txt\n",
      "Complete\n",
      "Reading file : http://web.mta.info/developers/data/nyct/turnstile/turnstile_190224.txt\n",
      "Reading file : http://web.mta.info/developers/data/nyct/turnstile/turnstile_190225.txt\n",
      "Reading file : http://web.mta.info/developers/data/nyct/turnstile/turnstile_190226.txt\n",
      "Reading file : http://web.mta.info/developers/data/nyct/turnstile/turnstile_190227.txt\n",
      "Reading file : http://web.mta.info/developers/data/nyct/turnstile/turnstile_190228.txt\n",
      "Reading file : http://web.mta.info/developers/data/nyct/turnstile/turnstile_190229.txt\n",
      "Reading file : http://web.mta.info/developers/data/nyct/turnstile/turnstile_190230.txt\n",
      "Reading file : http://web.mta.info/developers/data/nyct/turnstile/turnstile_190301.txt\n",
      "Reading file : http://web.mta.info/developers/data/nyct/turnstile/turnstile_190302.txt\n",
      "Complete\n",
      "Reading file : http://web.mta.info/developers/data/nyct/turnstile/turnstile_190303.txt\n",
      "Reading file : http://web.mta.info/developers/data/nyct/turnstile/turnstile_190304.txt\n",
      "Reading file : http://web.mta.info/developers/data/nyct/turnstile/turnstile_190305.txt\n",
      "Reading file : http://web.mta.info/developers/data/nyct/turnstile/turnstile_190306.txt\n",
      "Reading file : http://web.mta.info/developers/data/nyct/turnstile/turnstile_190307.txt\n",
      "Reading file : http://web.mta.info/developers/data/nyct/turnstile/turnstile_190308.txt\n",
      "Reading file : http://web.mta.info/developers/data/nyct/turnstile/turnstile_190309.txt\n",
      "Complete\n",
      "Reading file : http://web.mta.info/developers/data/nyct/turnstile/turnstile_190310.txt\n",
      "Reading file : http://web.mta.info/developers/data/nyct/turnstile/turnstile_190311.txt\n",
      "Reading file : http://web.mta.info/developers/data/nyct/turnstile/turnstile_190312.txt\n",
      "Reading file : http://web.mta.info/developers/data/nyct/turnstile/turnstile_190313.txt\n",
      "Reading file : http://web.mta.info/developers/data/nyct/turnstile/turnstile_190314.txt\n",
      "Reading file : http://web.mta.info/developers/data/nyct/turnstile/turnstile_190315.txt\n",
      "Reading file : http://web.mta.info/developers/data/nyct/turnstile/turnstile_190316.txt\n",
      "Complete\n",
      "Reading file : http://web.mta.info/developers/data/nyct/turnstile/turnstile_190317.txt\n",
      "Reading file : http://web.mta.info/developers/data/nyct/turnstile/turnstile_190318.txt\n",
      "Reading file : http://web.mta.info/developers/data/nyct/turnstile/turnstile_190319.txt\n",
      "Reading file : http://web.mta.info/developers/data/nyct/turnstile/turnstile_190320.txt\n",
      "Reading file : http://web.mta.info/developers/data/nyct/turnstile/turnstile_190321.txt\n",
      "Reading file : http://web.mta.info/developers/data/nyct/turnstile/turnstile_190322.txt\n",
      "Reading file : http://web.mta.info/developers/data/nyct/turnstile/turnstile_190323.txt\n",
      "Complete\n",
      "Reading file : http://web.mta.info/developers/data/nyct/turnstile/turnstile_190324.txt\n",
      "Reading file : http://web.mta.info/developers/data/nyct/turnstile/turnstile_190325.txt\n",
      "Reading file : http://web.mta.info/developers/data/nyct/turnstile/turnstile_190326.txt\n",
      "Reading file : http://web.mta.info/developers/data/nyct/turnstile/turnstile_190327.txt\n",
      "Reading file : http://web.mta.info/developers/data/nyct/turnstile/turnstile_190328.txt\n",
      "Reading file : http://web.mta.info/developers/data/nyct/turnstile/turnstile_190329.txt\n",
      "Reading file : http://web.mta.info/developers/data/nyct/turnstile/turnstile_190330.txt\n",
      "Complete\n",
      "Reading file : http://web.mta.info/developers/data/nyct/turnstile/turnstile_190401.txt\n",
      "Reading file : http://web.mta.info/developers/data/nyct/turnstile/turnstile_190402.txt\n",
      "Reading file : http://web.mta.info/developers/data/nyct/turnstile/turnstile_190403.txt\n",
      "Reading file : http://web.mta.info/developers/data/nyct/turnstile/turnstile_190404.txt\n",
      "Reading file : http://web.mta.info/developers/data/nyct/turnstile/turnstile_190405.txt\n",
      "Reading file : http://web.mta.info/developers/data/nyct/turnstile/turnstile_190406.txt\n",
      "Complete\n",
      "Reading file : http://web.mta.info/developers/data/nyct/turnstile/turnstile_190407.txt\n",
      "Reading file : http://web.mta.info/developers/data/nyct/turnstile/turnstile_190408.txt\n",
      "Reading file : http://web.mta.info/developers/data/nyct/turnstile/turnstile_190409.txt\n",
      "Reading file : http://web.mta.info/developers/data/nyct/turnstile/turnstile_190410.txt\n",
      "Reading file : http://web.mta.info/developers/data/nyct/turnstile/turnstile_190411.txt\n",
      "Reading file : http://web.mta.info/developers/data/nyct/turnstile/turnstile_190412.txt\n",
      "Reading file : http://web.mta.info/developers/data/nyct/turnstile/turnstile_190413.txt\n",
      "Complete\n",
      "Reading file : http://web.mta.info/developers/data/nyct/turnstile/turnstile_190414.txt\n",
      "Reading file : http://web.mta.info/developers/data/nyct/turnstile/turnstile_190415.txt\n",
      "Reading file : http://web.mta.info/developers/data/nyct/turnstile/turnstile_190416.txt\n",
      "Reading file : http://web.mta.info/developers/data/nyct/turnstile/turnstile_190417.txt\n",
      "Reading file : http://web.mta.info/developers/data/nyct/turnstile/turnstile_190418.txt\n",
      "Reading file : http://web.mta.info/developers/data/nyct/turnstile/turnstile_190419.txt\n",
      "Reading file : http://web.mta.info/developers/data/nyct/turnstile/turnstile_190420.txt\n",
      "Complete\n",
      "Reading file : http://web.mta.info/developers/data/nyct/turnstile/turnstile_190421.txt\n",
      "Reading file : http://web.mta.info/developers/data/nyct/turnstile/turnstile_190422.txt\n",
      "Reading file : http://web.mta.info/developers/data/nyct/turnstile/turnstile_190423.txt\n",
      "Reading file : http://web.mta.info/developers/data/nyct/turnstile/turnstile_190424.txt\n",
      "Reading file : http://web.mta.info/developers/data/nyct/turnstile/turnstile_190425.txt\n",
      "Reading file : http://web.mta.info/developers/data/nyct/turnstile/turnstile_190426.txt\n",
      "Reading file : http://web.mta.info/developers/data/nyct/turnstile/turnstile_190427.txt\n",
      "Complete\n",
      "Reading file : http://web.mta.info/developers/data/nyct/turnstile/turnstile_190428.txt\n",
      "Reading file : http://web.mta.info/developers/data/nyct/turnstile/turnstile_190429.txt\n",
      "Reading file : http://web.mta.info/developers/data/nyct/turnstile/turnstile_190430.txt\n"
     ]
    }
   ],
   "source": [
    "import pandas as pd\n",
    "\n",
    "def import_MTA_Turnstile_Data(Int_start_month, Int_end_month):\n",
    "    df =[]\n",
    "    for m in range(Int_start_month, Int_end_month):\n",
    "        for d in range(1,31):\n",
    "            url = 'http://web.mta.info/developers/data/nyct/turnstile/turnstile_19' + ('%02d') % (m,) + ('%02d') % (d,) + '.txt' \n",
    "            print('Reading file :'+ ' '+ url)\n",
    "            try:\n",
    "                tempDF = pd.read_csv(url)\n",
    "                print('Complete')\n",
    "                if len(df) < 1:\n",
    "                    df = tempDF \n",
    "                else:\n",
    "                    df = pd.concat([df,tempDF])\n",
    "            except Exception:\n",
    "                pass\n",
    "    return(df)\n",
    "\n",
    "turnstile_df = import_MTA_Turnstile_Data(2,5)"
   ]
  },
  {
   "cell_type": "code",
   "execution_count": 42,
   "metadata": {},
   "outputs": [],
   "source": [
    "import pandas as pd\n",
    "import matplotlib.pyplot as plt\n",
    "import numpy as np\n",
    "from datetime import datetime as dt\n",
    "import seaborn as sns"
   ]
  },
  {
   "cell_type": "markdown",
   "metadata": {},
   "source": [
    "Concatinating Stations and Lines:"
   ]
  },
  {
   "cell_type": "code",
   "execution_count": 43,
   "metadata": {},
   "outputs": [],
   "source": [
    "turnstile_df['STATION'] = turnstile_df['STATION'] + \"_\"+ turnstile_df['LINENAME']"
   ]
  },
  {
   "cell_type": "code",
   "execution_count": 44,
   "metadata": {},
   "outputs": [
    {
     "data": {
      "text/plain": [
       "array(['01/26/2019', '01/27/2019', '01/28/2019', '01/29/2019',\n",
       "       '01/30/2019', '01/31/2019', '02/01/2019', '02/02/2019',\n",
       "       '02/03/2019', '02/04/2019', '02/05/2019', '02/06/2019',\n",
       "       '02/07/2019', '02/08/2019', '02/09/2019', '02/10/2019',\n",
       "       '02/11/2019', '02/12/2019', '02/13/2019', '02/14/2019',\n",
       "       '02/15/2019', '02/16/2019', '02/17/2019', '02/18/2019',\n",
       "       '02/19/2019', '02/20/2019', '02/21/2019', '02/22/2019',\n",
       "       '02/23/2019', '02/24/2019', '02/25/2019', '02/26/2019',\n",
       "       '02/27/2019', '02/28/2019', '03/01/2019', '03/02/2019',\n",
       "       '03/03/2019', '03/04/2019', '03/05/2019', '03/06/2019',\n",
       "       '03/07/2019', '03/08/2019', '03/09/2019', '03/10/2019',\n",
       "       '03/11/2019', '03/12/2019', '03/13/2019', '03/14/2019',\n",
       "       '03/15/2019', '03/16/2019', '03/17/2019', '03/18/2019',\n",
       "       '03/19/2019', '03/20/2019', '03/21/2019', '03/22/2019',\n",
       "       '03/23/2019', '03/24/2019', '03/25/2019', '03/26/2019',\n",
       "       '03/27/2019', '03/28/2019', '03/29/2019', '03/30/2019',\n",
       "       '03/31/2019', '04/01/2019', '04/02/2019', '04/03/2019',\n",
       "       '04/04/2019', '04/05/2019', '04/06/2019', '04/07/2019',\n",
       "       '04/08/2019', '04/09/2019', '04/10/2019', '04/11/2019',\n",
       "       '04/12/2019', '04/13/2019', '04/14/2019', '04/15/2019',\n",
       "       '04/16/2019', '04/17/2019', '04/18/2019', '04/19/2019',\n",
       "       '04/20/2019', '04/21/2019', '04/22/2019', '04/23/2019',\n",
       "       '04/24/2019', '04/25/2019', '04/26/2019'], dtype=object)"
      ]
     },
     "execution_count": 44,
     "metadata": {},
     "output_type": "execute_result"
    }
   ],
   "source": [
    "df.DATE.unique()"
   ]
  },
  {
   "cell_type": "code",
   "execution_count": 45,
   "metadata": {},
   "outputs": [
    {
     "data": {
      "text/html": [
       "<div>\n",
       "<style scoped>\n",
       "    .dataframe tbody tr th:only-of-type {\n",
       "        vertical-align: middle;\n",
       "    }\n",
       "\n",
       "    .dataframe tbody tr th {\n",
       "        vertical-align: top;\n",
       "    }\n",
       "\n",
       "    .dataframe thead th {\n",
       "        text-align: right;\n",
       "    }\n",
       "</style>\n",
       "<table border=\"1\" class=\"dataframe\">\n",
       "  <thead>\n",
       "    <tr style=\"text-align: right;\">\n",
       "      <th></th>\n",
       "      <th>C/A</th>\n",
       "      <th>UNIT</th>\n",
       "      <th>SCP</th>\n",
       "      <th>STATION</th>\n",
       "      <th>LINENAME</th>\n",
       "      <th>DIVISION</th>\n",
       "      <th>DATE</th>\n",
       "      <th>TIME</th>\n",
       "      <th>DESC</th>\n",
       "      <th>ENTRIES</th>\n",
       "      <th>EXITS</th>\n",
       "    </tr>\n",
       "  </thead>\n",
       "  <tbody>\n",
       "    <tr>\n",
       "      <th>0</th>\n",
       "      <td>A002</td>\n",
       "      <td>R051</td>\n",
       "      <td>02-00-00</td>\n",
       "      <td>59 ST_NQR456W</td>\n",
       "      <td>NQR456W</td>\n",
       "      <td>BMT</td>\n",
       "      <td>01/26/2019</td>\n",
       "      <td>03:00:00</td>\n",
       "      <td>REGULAR</td>\n",
       "      <td>6922652</td>\n",
       "      <td>2347673</td>\n",
       "    </tr>\n",
       "    <tr>\n",
       "      <th>1</th>\n",
       "      <td>A002</td>\n",
       "      <td>R051</td>\n",
       "      <td>02-00-00</td>\n",
       "      <td>59 ST_NQR456W</td>\n",
       "      <td>NQR456W</td>\n",
       "      <td>BMT</td>\n",
       "      <td>01/26/2019</td>\n",
       "      <td>07:00:00</td>\n",
       "      <td>REGULAR</td>\n",
       "      <td>6922669</td>\n",
       "      <td>2347688</td>\n",
       "    </tr>\n",
       "    <tr>\n",
       "      <th>2</th>\n",
       "      <td>A002</td>\n",
       "      <td>R051</td>\n",
       "      <td>02-00-00</td>\n",
       "      <td>59 ST_NQR456W</td>\n",
       "      <td>NQR456W</td>\n",
       "      <td>BMT</td>\n",
       "      <td>01/26/2019</td>\n",
       "      <td>11:00:00</td>\n",
       "      <td>REGULAR</td>\n",
       "      <td>6922747</td>\n",
       "      <td>2347773</td>\n",
       "    </tr>\n",
       "    <tr>\n",
       "      <th>3</th>\n",
       "      <td>A002</td>\n",
       "      <td>R051</td>\n",
       "      <td>02-00-00</td>\n",
       "      <td>59 ST_NQR456W</td>\n",
       "      <td>NQR456W</td>\n",
       "      <td>BMT</td>\n",
       "      <td>01/26/2019</td>\n",
       "      <td>15:00:00</td>\n",
       "      <td>RECOVR AUD</td>\n",
       "      <td>6922932</td>\n",
       "      <td>2347849</td>\n",
       "    </tr>\n",
       "    <tr>\n",
       "      <th>4</th>\n",
       "      <td>A002</td>\n",
       "      <td>R051</td>\n",
       "      <td>02-00-00</td>\n",
       "      <td>59 ST_NQR456W</td>\n",
       "      <td>NQR456W</td>\n",
       "      <td>BMT</td>\n",
       "      <td>01/26/2019</td>\n",
       "      <td>19:00:00</td>\n",
       "      <td>REGULAR</td>\n",
       "      <td>6923237</td>\n",
       "      <td>2347911</td>\n",
       "    </tr>\n",
       "  </tbody>\n",
       "</table>\n",
       "</div>"
      ],
      "text/plain": [
       "    C/A  UNIT       SCP        STATION LINENAME DIVISION        DATE  \\\n",
       "0  A002  R051  02-00-00  59 ST_NQR456W  NQR456W      BMT  01/26/2019   \n",
       "1  A002  R051  02-00-00  59 ST_NQR456W  NQR456W      BMT  01/26/2019   \n",
       "2  A002  R051  02-00-00  59 ST_NQR456W  NQR456W      BMT  01/26/2019   \n",
       "3  A002  R051  02-00-00  59 ST_NQR456W  NQR456W      BMT  01/26/2019   \n",
       "4  A002  R051  02-00-00  59 ST_NQR456W  NQR456W      BMT  01/26/2019   \n",
       "\n",
       "       TIME        DESC  ENTRIES  \\\n",
       "0  03:00:00     REGULAR  6922652   \n",
       "1  07:00:00     REGULAR  6922669   \n",
       "2  11:00:00     REGULAR  6922747   \n",
       "3  15:00:00  RECOVR AUD  6922932   \n",
       "4  19:00:00     REGULAR  6923237   \n",
       "\n",
       "   EXITS                                                                 \n",
       "0                                            2347673                     \n",
       "1                                            2347688                     \n",
       "2                                            2347773                     \n",
       "3                                            2347849                     \n",
       "4                                            2347911                     "
      ]
     },
     "execution_count": 45,
     "metadata": {},
     "output_type": "execute_result"
    }
   ],
   "source": [
    "turnstile_df.head()"
   ]
  },
  {
   "cell_type": "code",
   "execution_count": 46,
   "metadata": {},
   "outputs": [],
   "source": [
    "turnstile_df.columns = [i.strip() for i in turnstile_df.columns]"
   ]
  },
  {
   "cell_type": "code",
   "execution_count": 47,
   "metadata": {},
   "outputs": [
    {
     "data": {
      "text/plain": [
       "Index(['C/A', 'UNIT', 'SCP', 'STATION', 'LINENAME', 'DIVISION', 'DATE', 'TIME',\n",
       "       'DESC', 'ENTRIES', 'EXITS'],\n",
       "      dtype='object')"
      ]
     },
     "execution_count": 47,
     "metadata": {},
     "output_type": "execute_result"
    }
   ],
   "source": [
    "turnstile_df.columns"
   ]
  },
  {
   "cell_type": "markdown",
   "metadata": {},
   "source": [
    "Creating Datetime column:"
   ]
  },
  {
   "cell_type": "code",
   "execution_count": 48,
   "metadata": {},
   "outputs": [],
   "source": [
    "\n",
    "turnstile_df['dateTime'] = pd.to_datetime(turnstile_df.DATE +' '+ turnstile_df.TIME, format='%m/%d/%Y %H:%M:%S')"
   ]
  },
  {
   "cell_type": "markdown",
   "metadata": {},
   "source": [
    "First I implemented group by function to target a specific turnstile, then calculated the difference between entries/exits to get incremental entries and exits: "
   ]
  },
  {
   "cell_type": "code",
   "execution_count": 56,
   "metadata": {},
   "outputs": [],
   "source": [
    "key = ['C/A',\n",
    "'UNIT',\n",
    "'SCP',\n",
    "'STATION']\n",
    "\n",
    "def getDiff(turnstile_df):\n",
    "    turnstile_df = turnstile_df.sort_values('dateTime')\n",
    "    turnstile_df['Incr_ENTRIES'] =  turnstile_df.ENTRIES - turnstile_df.ENTRIES.shift(1)\n",
    "    turnstile_df['Incr_EXITS'] = turnstile_df.EXITS - turnstile_df.EXITS.shift(1)\n",
    "    return(turnstile_df)\n",
    "\n",
    "\n",
    "newDF = turnstile_df.groupby(key, as_index=False).apply(lambda x: getDiff(x)).reset_index()"
   ]
  },
  {
   "cell_type": "code",
   "execution_count": 58,
   "metadata": {},
   "outputs": [],
   "source": [
    "newDF = newDF[list(turnstile_df.columns.values) + ['Incr_ENTRIES', 'Incr_EXITS']]"
   ]
  },
  {
   "cell_type": "markdown",
   "metadata": {},
   "source": [
    "Adjusting for Outliers: "
   ]
  },
  {
   "cell_type": "code",
   "execution_count": 59,
   "metadata": {},
   "outputs": [
    {
     "data": {
      "text/plain": [
       "REGULAR       2631802\n",
       "RECOVR AUD      13001\n",
       "Name: DESC, dtype: int64"
      ]
     },
     "execution_count": 59,
     "metadata": {},
     "output_type": "execute_result"
    }
   ],
   "source": [
    "newDF.DESC.value_counts()"
   ]
  },
  {
   "cell_type": "markdown",
   "metadata": {},
   "source": [
    "Deleting audit values:"
   ]
  },
  {
   "cell_type": "code",
   "execution_count": 60,
   "metadata": {},
   "outputs": [],
   "source": [
    "newDF = newDF[newDF.DESC != 'RECOVR AUD']"
   ]
  },
  {
   "cell_type": "markdown",
   "metadata": {},
   "source": [
    "Getting rid of outliers by removing negative incremental entries and exits: "
   ]
  },
  {
   "cell_type": "code",
   "execution_count": 61,
   "metadata": {},
   "outputs": [],
   "source": [
    "newDF = newDF.loc[(newDF['Incr_ENTRIES']>0) & (newDF['Incr_EXITS']>0),]"
   ]
  },
  {
   "cell_type": "code",
   "execution_count": 62,
   "metadata": {},
   "outputs": [
    {
     "data": {
      "text/plain": [
       "count    2.135612e+06\n",
       "mean     8.941246e+03\n",
       "std      3.335233e+06\n",
       "min      1.000000e+00\n",
       "25%      3.000000e+01\n",
       "50%      1.100000e+02\n",
       "75%      2.780000e+02\n",
       "max      2.088503e+09\n",
       "Name: Incr_ENTRIES, dtype: float64"
      ]
     },
     "execution_count": 62,
     "metadata": {},
     "output_type": "execute_result"
    }
   ],
   "source": [
    "newDF['Incr_ENTRIES'].describe()"
   ]
  },
  {
   "cell_type": "code",
   "execution_count": 63,
   "metadata": {},
   "outputs": [],
   "source": [
    "newDF['totalFootTraffic'] = newDF['Incr_ENTRIES'] + newDF['Incr_EXITS']"
   ]
  },
  {
   "cell_type": "code",
   "execution_count": 29,
   "metadata": {},
   "outputs": [
    {
     "data": {
      "text/html": [
       "<div>\n",
       "<style scoped>\n",
       "    .dataframe tbody tr th:only-of-type {\n",
       "        vertical-align: middle;\n",
       "    }\n",
       "\n",
       "    .dataframe tbody tr th {\n",
       "        vertical-align: top;\n",
       "    }\n",
       "\n",
       "    .dataframe thead th {\n",
       "        text-align: right;\n",
       "    }\n",
       "</style>\n",
       "<table border=\"1\" class=\"dataframe\">\n",
       "  <thead>\n",
       "    <tr style=\"text-align: right;\">\n",
       "      <th></th>\n",
       "      <th>sum</th>\n",
       "    </tr>\n",
       "    <tr>\n",
       "      <th>STATION</th>\n",
       "      <th></th>\n",
       "    </tr>\n",
       "  </thead>\n",
       "  <tbody>\n",
       "    <tr>\n",
       "      <th>125 ST_456</th>\n",
       "      <td>3.908938e+09</td>\n",
       "    </tr>\n",
       "    <tr>\n",
       "      <th>B'WAY-LAFAYETTE_BDFQ6</th>\n",
       "      <td>3.810564e+09</td>\n",
       "    </tr>\n",
       "    <tr>\n",
       "      <th>103 ST_6</th>\n",
       "      <td>3.774656e+09</td>\n",
       "    </tr>\n",
       "    <tr>\n",
       "      <th>CYPRESS AV_6</th>\n",
       "      <td>3.281471e+09</td>\n",
       "    </tr>\n",
       "    <tr>\n",
       "      <th>66 ST-LINCOLN_1</th>\n",
       "      <td>2.001075e+09</td>\n",
       "    </tr>\n",
       "    <tr>\n",
       "      <th>GRD CNTRL-42 ST_4567S</th>\n",
       "      <td>1.836599e+09</td>\n",
       "    </tr>\n",
       "    <tr>\n",
       "      <th>FRANKLIN ST_1</th>\n",
       "      <td>1.835178e+09</td>\n",
       "    </tr>\n",
       "    <tr>\n",
       "      <th>BEACH 25 ST_A</th>\n",
       "      <td>1.604993e+09</td>\n",
       "    </tr>\n",
       "    <tr>\n",
       "      <th>86 ST_456</th>\n",
       "      <td>1.235603e+09</td>\n",
       "    </tr>\n",
       "    <tr>\n",
       "      <th>METS-WILLETS PT_7</th>\n",
       "      <td>1.173589e+09</td>\n",
       "    </tr>\n",
       "    <tr>\n",
       "      <th>SIMPSON ST_25</th>\n",
       "      <td>1.158927e+09</td>\n",
       "    </tr>\n",
       "    <tr>\n",
       "      <th>33 ST_6</th>\n",
       "      <td>1.083669e+09</td>\n",
       "    </tr>\n",
       "    <tr>\n",
       "      <th>FAR ROCKAWAY_A</th>\n",
       "      <td>1.007890e+09</td>\n",
       "    </tr>\n",
       "    <tr>\n",
       "      <th>FT HAMILTON PKY_FG</th>\n",
       "      <td>6.720990e+08</td>\n",
       "    </tr>\n",
       "    <tr>\n",
       "      <th>KINGSBRIDGE RD_BD</th>\n",
       "      <td>6.027440e+08</td>\n",
       "    </tr>\n",
       "    <tr>\n",
       "      <th>3 AV 138 ST_6</th>\n",
       "      <td>4.689875e+08</td>\n",
       "    </tr>\n",
       "    <tr>\n",
       "      <th>PARKCHESTER_6</th>\n",
       "      <td>4.370433e+08</td>\n",
       "    </tr>\n",
       "    <tr>\n",
       "      <th>14 ST-UNION SQ_LNQR456W</th>\n",
       "      <td>2.612889e+08</td>\n",
       "    </tr>\n",
       "    <tr>\n",
       "      <th>34 ST-HERALD SQ_BDFMNQRW</th>\n",
       "      <td>2.368819e+08</td>\n",
       "    </tr>\n",
       "    <tr>\n",
       "      <th>34 ST-PENN STA_ACE</th>\n",
       "      <td>1.715002e+08</td>\n",
       "    </tr>\n",
       "  </tbody>\n",
       "</table>\n",
       "</div>"
      ],
      "text/plain": [
       "                                   sum\n",
       "STATION                               \n",
       "125 ST_456                3.908938e+09\n",
       "B'WAY-LAFAYETTE_BDFQ6     3.810564e+09\n",
       "103 ST_6                  3.774656e+09\n",
       "CYPRESS AV_6              3.281471e+09\n",
       "66 ST-LINCOLN_1           2.001075e+09\n",
       "GRD CNTRL-42 ST_4567S     1.836599e+09\n",
       "FRANKLIN ST_1             1.835178e+09\n",
       "BEACH 25 ST_A             1.604993e+09\n",
       "86 ST_456                 1.235603e+09\n",
       "METS-WILLETS PT_7         1.173589e+09\n",
       "SIMPSON ST_25             1.158927e+09\n",
       "33 ST_6                   1.083669e+09\n",
       "FAR ROCKAWAY_A            1.007890e+09\n",
       "FT HAMILTON PKY_FG        6.720990e+08\n",
       "KINGSBRIDGE RD_BD         6.027440e+08\n",
       "3 AV 138 ST_6             4.689875e+08\n",
       "PARKCHESTER_6             4.370433e+08\n",
       "14 ST-UNION SQ_LNQR456W   2.612889e+08\n",
       "34 ST-HERALD SQ_BDFMNQRW  2.368819e+08\n",
       "34 ST-PENN STA_ACE        1.715002e+08"
      ]
     },
     "execution_count": 29,
     "metadata": {},
     "output_type": "execute_result"
    }
   ],
   "source": [
    "key = ['C/A',\n",
    "'UNIT',\n",
    "'SCP',\n",
    "'STATION']\n",
    "\n",
    "newDF.groupby(['STATION']).totalFootTraffic.agg(['sum']).sort_values('sum', ascending=False).head(20)\n",
    "#newDF.groupby(key, as_index=False).totalFootTraffic.agg(['sum']).sort_values('sum', ascending=False).reset_index()\n",
    "#newDF.groupby(key, as_index=False).totalFootTraffic.agg(['sum']).sort_values('sum', ascending=False).reset_index()"
   ]
  },
  {
   "cell_type": "code",
   "execution_count": 64,
   "metadata": {},
   "outputs": [
    {
     "data": {
      "text/plain": [
       "count    2.135612e+06\n",
       "mean     8.941246e+03\n",
       "std      3.335233e+06\n",
       "min      1.000000e+00\n",
       "25%      3.000000e+01\n",
       "50%      1.100000e+02\n",
       "75%      2.780000e+02\n",
       "max      2.088503e+09\n",
       "Name: Incr_ENTRIES, dtype: float64"
      ]
     },
     "execution_count": 64,
     "metadata": {},
     "output_type": "execute_result"
    }
   ],
   "source": [
    "newDF.Incr_ENTRIES.describe()"
   ]
  },
  {
   "cell_type": "markdown",
   "metadata": {},
   "source": [
    "Removing rows where the difference between two adjacent lines is very large:"
   ]
  },
  {
   "cell_type": "code",
   "execution_count": 65,
   "metadata": {},
   "outputs": [],
   "source": [
    "newDF = newDF.loc[(newDF.Incr_ENTRIES < 20000) & (newDF.Incr_EXITS < 20000),]"
   ]
  },
  {
   "cell_type": "code",
   "execution_count": 66,
   "metadata": {},
   "outputs": [
    {
     "data": {
      "text/plain": [
       "count    2.135488e+06\n",
       "mean     2.052787e+02\n",
       "std      2.648451e+02\n",
       "min      1.000000e+00\n",
       "25%      3.000000e+01\n",
       "50%      1.100000e+02\n",
       "75%      2.780000e+02\n",
       "max      1.911300e+04\n",
       "Name: Incr_ENTRIES, dtype: float64"
      ]
     },
     "execution_count": 66,
     "metadata": {},
     "output_type": "execute_result"
    }
   ],
   "source": [
    "newDF.Incr_ENTRIES.describe()"
   ]
  },
  {
   "cell_type": "code",
   "execution_count": 70,
   "metadata": {},
   "outputs": [
    {
     "data": {
      "text/plain": [
       "count    6617.000000\n",
       "mean      600.283361\n",
       "std       414.217628\n",
       "min         2.000000\n",
       "25%       248.000000\n",
       "50%       547.000000\n",
       "75%       896.000000\n",
       "max      2604.000000\n",
       "Name: totalFootTraffic, dtype: float64"
      ]
     },
     "execution_count": 70,
     "metadata": {},
     "output_type": "execute_result"
    }
   ],
   "source": [
    "newDF[(newDF.STATION =='125 ST_456')].totalFootTraffic.describe()"
   ]
  },
  {
   "cell_type": "code",
   "execution_count": 71,
   "metadata": {},
   "outputs": [
    {
     "data": {
      "text/html": [
       "<div>\n",
       "<style scoped>\n",
       "    .dataframe tbody tr th:only-of-type {\n",
       "        vertical-align: middle;\n",
       "    }\n",
       "\n",
       "    .dataframe tbody tr th {\n",
       "        vertical-align: top;\n",
       "    }\n",
       "\n",
       "    .dataframe thead th {\n",
       "        text-align: right;\n",
       "    }\n",
       "</style>\n",
       "<table border=\"1\" class=\"dataframe\">\n",
       "  <thead>\n",
       "    <tr style=\"text-align: right;\">\n",
       "      <th></th>\n",
       "      <th>sum</th>\n",
       "    </tr>\n",
       "    <tr>\n",
       "      <th>STATION</th>\n",
       "      <th></th>\n",
       "    </tr>\n",
       "  </thead>\n",
       "  <tbody>\n",
       "    <tr>\n",
       "      <th>GRD CNTRL-42 ST_4567S</th>\n",
       "      <td>21466461.0</td>\n",
       "    </tr>\n",
       "    <tr>\n",
       "      <th>34 ST-HERALD SQ_BDFMNQRW</th>\n",
       "      <td>17405375.0</td>\n",
       "    </tr>\n",
       "    <tr>\n",
       "      <th>34 ST-PENN STA_ACE</th>\n",
       "      <td>12017739.0</td>\n",
       "    </tr>\n",
       "    <tr>\n",
       "      <th>42 ST-PORT AUTH_ACENQRS1237W</th>\n",
       "      <td>10998207.0</td>\n",
       "    </tr>\n",
       "    <tr>\n",
       "      <th>14 ST-UNION SQ_LNQR456W</th>\n",
       "      <td>10612303.0</td>\n",
       "    </tr>\n",
       "    <tr>\n",
       "      <th>TIMES SQ-42 ST_1237ACENQRSW</th>\n",
       "      <td>10090555.0</td>\n",
       "    </tr>\n",
       "    <tr>\n",
       "      <th>FULTON ST_2345ACJZ</th>\n",
       "      <td>9125459.0</td>\n",
       "    </tr>\n",
       "    <tr>\n",
       "      <th>47-50 STS ROCK_BDFM</th>\n",
       "      <td>8959848.0</td>\n",
       "    </tr>\n",
       "    <tr>\n",
       "      <th>59 ST COLUMBUS_ABCD1</th>\n",
       "      <td>8573097.0</td>\n",
       "    </tr>\n",
       "    <tr>\n",
       "      <th>FLUSHING-MAIN_7</th>\n",
       "      <td>8000965.0</td>\n",
       "    </tr>\n",
       "  </tbody>\n",
       "</table>\n",
       "</div>"
      ],
      "text/plain": [
       "                                     sum\n",
       "STATION                                 \n",
       "GRD CNTRL-42 ST_4567S         21466461.0\n",
       "34 ST-HERALD SQ_BDFMNQRW      17405375.0\n",
       "34 ST-PENN STA_ACE            12017739.0\n",
       "42 ST-PORT AUTH_ACENQRS1237W  10998207.0\n",
       "14 ST-UNION SQ_LNQR456W       10612303.0\n",
       "TIMES SQ-42 ST_1237ACENQRSW   10090555.0\n",
       "FULTON ST_2345ACJZ             9125459.0\n",
       "47-50 STS ROCK_BDFM            8959848.0\n",
       "59 ST COLUMBUS_ABCD1           8573097.0\n",
       "FLUSHING-MAIN_7                8000965.0"
      ]
     },
     "execution_count": 71,
     "metadata": {},
     "output_type": "execute_result"
    }
   ],
   "source": [
    "newDF.groupby(['STATION']).totalFootTraffic.agg(['sum']).sort_values('sum', ascending=False).head(10)"
   ]
  },
  {
   "cell_type": "markdown",
   "metadata": {},
   "source": [
    "10 BUSIEST STATIONS: "
   ]
  },
  {
   "cell_type": "code",
   "execution_count": 73,
   "metadata": {},
   "outputs": [
    {
     "data": {
      "image/png": "[encoded data removed]",
      "text/plain": [
       "<Figure size 1008x576 with 1 Axes>"
      ]
     },
     "metadata": {
      "needs_background": "light"
     },
     "output_type": "display_data"
    }
   ],
   "source": [
    "plt.figure(figsize=(14, 8))\n",
    "plt.title(\"Total Traffic For Top 10 Stations\")\n",
    "graph1DF = newDF.groupby(['STATION']).totalFootTraffic.agg(['sum']).reset_index()\n",
    "graph1DF = graph1DF.nlargest(10,'sum')\n",
    "sns.barplot(x=\"sum\", y=\"STATION\", orient = \"h\", data=graph1DF, palette = \"Reds_d\")\n",
    "plt.savefig('10TopStations.png', dpi = 1000)"
   ]
  },
  {
   "cell_type": "code",
   "execution_count": null,
   "metadata": {},
   "outputs": [],
   "source": []
  },
  {
   "cell_type": "code",
   "execution_count": null,
   "metadata": {},
   "outputs": [],
   "source": []
  }
 ],
 "metadata": {
  "kernelspec": {
   "display_name": "Python 3",
   "language": "python",
   "name": "python3"
  },
  "language_info": {
   "codemirror_mode": {
    "name": "ipython",
    "version": 3
   },
   "file_extension": ".py",
   "mimetype": "text/x-python",
   "name": "python",
   "nbconvert_exporter": "python",
   "pygments_lexer": "ipython3",
   "version": "3.8.5"
  }
 },
 "nbformat": 4,
 "nbformat_minor": 4
}
