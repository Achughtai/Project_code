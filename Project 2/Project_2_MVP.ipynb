{
 "cells": [
  {
   "cell_type": "code",
   "execution_count": 45,
   "metadata": {},
   "outputs": [],
   "source": [
    "import numpy as np\n",
    "import pandas as pd\n",
    "import regex as re\n",
    "import seaborn as sns\n",
    "sns.set(context=\"notebook\", palette=\"Spectral\", style = 'darkgrid' ,font_scale = 1.5, color_codes=True)\n",
    "import matplotlib.pyplot as plt\n",
    "%matplotlib inline\n",
    "from sklearn.linear_model import LinearRegression\n",
    "from sklearn.model_selection import train_test_split, cross_val_score\n",
    "from sklearn.metrics import mean_squared_error\n",
    "from sklearn.dummy import DummyRegressor\n",
    "from sklearn.linear_model import LinearRegression, Lasso, Ridge\n",
    "from sklearn.metrics import mean_squared_error\n",
    "from sklearn.preprocessing import StandardScaler"
   ]
  },
  {
   "cell_type": "code",
   "execution_count": 46,
   "metadata": {},
   "outputs": [],
   "source": [
    "new_house_features = pd.read_csv('new_house_features.csv')"
   ]
  },
  {
   "cell_type": "code",
   "execution_count": 47,
   "metadata": {},
   "outputs": [
    {
     "data": {
      "text/html": [
       "<div>\n",
       "<style scoped>\n",
       "    .dataframe tbody tr th:only-of-type {\n",
       "        vertical-align: middle;\n",
       "    }\n",
       "\n",
       "    .dataframe tbody tr th {\n",
       "        vertical-align: top;\n",
       "    }\n",
       "\n",
       "    .dataframe thead th {\n",
       "        text-align: right;\n",
       "    }\n",
       "</style>\n",
       "<table border=\"1\" class=\"dataframe\">\n",
       "  <thead>\n",
       "    <tr style=\"text-align: right;\">\n",
       "      <th></th>\n",
       "      <th>price</th>\n",
       "      <th>bed</th>\n",
       "      <th>bath</th>\n",
       "      <th>sqft</th>\n",
       "      <th>year_built</th>\n",
       "      <th>lot_size</th>\n",
       "      <th>num_photos</th>\n",
       "    </tr>\n",
       "  </thead>\n",
       "  <tbody>\n",
       "    <tr>\n",
       "      <th>0</th>\n",
       "      <td>1925000</td>\n",
       "      <td>2</td>\n",
       "      <td>2</td>\n",
       "      <td>1212</td>\n",
       "      <td>2009</td>\n",
       "      <td>10174.0</td>\n",
       "      <td>13</td>\n",
       "    </tr>\n",
       "    <tr>\n",
       "      <th>1</th>\n",
       "      <td>330000</td>\n",
       "      <td>4</td>\n",
       "      <td>2</td>\n",
       "      <td>1629</td>\n",
       "      <td>1930</td>\n",
       "      <td>5057.0</td>\n",
       "      <td>3</td>\n",
       "    </tr>\n",
       "  </tbody>\n",
       "</table>\n",
       "</div>"
      ],
      "text/plain": [
       "     price  bed  bath  sqft year_built  lot_size  num_photos\n",
       "0  1925000    2     2  1212       2009   10174.0          13\n",
       "1   330000    4     2  1629       1930    5057.0           3"
      ]
     },
     "execution_count": 47,
     "metadata": {},
     "output_type": "execute_result"
    }
   ],
   "source": [
    "new_house_features.head(2)"
   ]
  },
  {
   "cell_type": "code",
   "execution_count": 48,
   "metadata": {},
   "outputs": [
    {
     "data": {
      "text/plain": [
       "(1150, 7)"
      ]
     },
     "execution_count": 48,
     "metadata": {},
     "output_type": "execute_result"
    }
   ],
   "source": [
    "new_house_features.shape"
   ]
  },
  {
   "cell_type": "code",
   "execution_count": 49,
   "metadata": {},
   "outputs": [
    {
     "data": {
      "text/plain": [
       "price         0\n",
       "bed           0\n",
       "bath          0\n",
       "sqft          0\n",
       "year_built    0\n",
       "lot_size      0\n",
       "num_photos    0\n",
       "dtype: int64"
      ]
     },
     "execution_count": 49,
     "metadata": {},
     "output_type": "execute_result"
    }
   ],
   "source": [
    "#Check for nulls: \n",
    "\n",
    "new_house_features.isnull().sum()"
   ]
  },
  {
   "cell_type": "code",
   "execution_count": 50,
   "metadata": {
    "scrolled": true
   },
   "outputs": [
    {
     "data": {
      "text/plain": [
       "array(['2009', '1930', '2003', '1960', '2021', '1901', '1986', '1910',\n",
       "       '1965', '1990', '1975', '1940', '1935', '1945', '1987', '1966',\n",
       "       '1970', '1980', '1915', '1925', '1983', '1998', '1999', '2015',\n",
       "       '1982', '1997', '1950', '1951', '1920', '2018', '1991', '1974',\n",
       "       '1971', '1956', '1955', '2013', '1962', '1978', '1880', '1899',\n",
       "       '2020', '1985', '1996', '2017', '2001', '1905', '1993', '1989',\n",
       "       '1988', '2005', '1900', '2016', '1972', '2004', '2006', '2007',\n",
       "       '1968', '1994', '1981', '1931', '2022', '2002', 'No Data', '2000',\n",
       "       '1957', '1995', '1973', '1992', '1918', '1923', '2014', '1976',\n",
       "       '1948', '1921', '1979', '2019', '1954', '1977', '1912', '1919',\n",
       "       '1963', '1967', '1969', '1932', '1875', '2008', '1984', '1958',\n",
       "       '1964', '1953', '1872', '2010', '1961', '2011', '1860', '1926',\n",
       "       '1937', '1833', '2012', '1941', '1924', '1946', '1907', '1952',\n",
       "       '1835', '1942', '1947'], dtype=object)"
      ]
     },
     "execution_count": 50,
     "metadata": {},
     "output_type": "execute_result"
    }
   ],
   "source": [
    "uniqueValues = new_house_features['year_built'].unique()\n",
    "uniqueValues\n",
    "\n"
   ]
  },
  {
   "cell_type": "code",
   "execution_count": 51,
   "metadata": {},
   "outputs": [
    {
     "data": {
      "text/html": [
       "<div>\n",
       "<style scoped>\n",
       "    .dataframe tbody tr th:only-of-type {\n",
       "        vertical-align: middle;\n",
       "    }\n",
       "\n",
       "    .dataframe tbody tr th {\n",
       "        vertical-align: top;\n",
       "    }\n",
       "\n",
       "    .dataframe thead th {\n",
       "        text-align: right;\n",
       "    }\n",
       "</style>\n",
       "<table border=\"1\" class=\"dataframe\">\n",
       "  <thead>\n",
       "    <tr style=\"text-align: right;\">\n",
       "      <th></th>\n",
       "      <th>price</th>\n",
       "      <th>bed</th>\n",
       "      <th>bath</th>\n",
       "      <th>sqft</th>\n",
       "      <th>year_built</th>\n",
       "      <th>lot_size</th>\n",
       "      <th>num_photos</th>\n",
       "    </tr>\n",
       "  </thead>\n",
       "  <tbody>\n",
       "    <tr>\n",
       "      <th>0</th>\n",
       "      <td>1925000</td>\n",
       "      <td>2</td>\n",
       "      <td>2</td>\n",
       "      <td>1212</td>\n",
       "      <td>2009</td>\n",
       "      <td>10174.0</td>\n",
       "      <td>13</td>\n",
       "    </tr>\n",
       "    <tr>\n",
       "      <th>1</th>\n",
       "      <td>330000</td>\n",
       "      <td>4</td>\n",
       "      <td>2</td>\n",
       "      <td>1629</td>\n",
       "      <td>1930</td>\n",
       "      <td>5057.0</td>\n",
       "      <td>3</td>\n",
       "    </tr>\n",
       "    <tr>\n",
       "      <th>2</th>\n",
       "      <td>559000</td>\n",
       "      <td>3</td>\n",
       "      <td>3</td>\n",
       "      <td>1800</td>\n",
       "      <td>2003</td>\n",
       "      <td>1711.0</td>\n",
       "      <td>25</td>\n",
       "    </tr>\n",
       "    <tr>\n",
       "      <th>3</th>\n",
       "      <td>738888</td>\n",
       "      <td>4</td>\n",
       "      <td>3</td>\n",
       "      <td>1860</td>\n",
       "      <td>1960</td>\n",
       "      <td>4000.0</td>\n",
       "      <td>68</td>\n",
       "    </tr>\n",
       "    <tr>\n",
       "      <th>4</th>\n",
       "      <td>569900</td>\n",
       "      <td>3</td>\n",
       "      <td>4</td>\n",
       "      <td>1747</td>\n",
       "      <td>2021</td>\n",
       "      <td>2090.0</td>\n",
       "      <td>39</td>\n",
       "    </tr>\n",
       "    <tr>\n",
       "      <th>...</th>\n",
       "      <td>...</td>\n",
       "      <td>...</td>\n",
       "      <td>...</td>\n",
       "      <td>...</td>\n",
       "      <td>...</td>\n",
       "      <td>...</td>\n",
       "      <td>...</td>\n",
       "    </tr>\n",
       "    <tr>\n",
       "      <th>1145</th>\n",
       "      <td>700000</td>\n",
       "      <td>4</td>\n",
       "      <td>3</td>\n",
       "      <td>2520</td>\n",
       "      <td>1920</td>\n",
       "      <td>5750.0</td>\n",
       "      <td>5</td>\n",
       "    </tr>\n",
       "    <tr>\n",
       "      <th>1146</th>\n",
       "      <td>549000</td>\n",
       "      <td>3</td>\n",
       "      <td>2</td>\n",
       "      <td>1226</td>\n",
       "      <td>1935</td>\n",
       "      <td>2400.0</td>\n",
       "      <td>41</td>\n",
       "    </tr>\n",
       "    <tr>\n",
       "      <th>1147</th>\n",
       "      <td>2699999</td>\n",
       "      <td>4</td>\n",
       "      <td>5</td>\n",
       "      <td>5794</td>\n",
       "      <td>2008</td>\n",
       "      <td>11718.0</td>\n",
       "      <td>34</td>\n",
       "    </tr>\n",
       "    <tr>\n",
       "      <th>1148</th>\n",
       "      <td>2500000</td>\n",
       "      <td>5</td>\n",
       "      <td>3</td>\n",
       "      <td>2280</td>\n",
       "      <td>1901</td>\n",
       "      <td>2000.0</td>\n",
       "      <td>12</td>\n",
       "    </tr>\n",
       "    <tr>\n",
       "      <th>1149</th>\n",
       "      <td>599900</td>\n",
       "      <td>3</td>\n",
       "      <td>3</td>\n",
       "      <td>1488</td>\n",
       "      <td>1999</td>\n",
       "      <td>2040.0</td>\n",
       "      <td>46</td>\n",
       "    </tr>\n",
       "  </tbody>\n",
       "</table>\n",
       "<p>1148 rows × 7 columns</p>\n",
       "</div>"
      ],
      "text/plain": [
       "        price  bed  bath  sqft year_built  lot_size  num_photos\n",
       "0     1925000    2     2  1212       2009   10174.0          13\n",
       "1      330000    4     2  1629       1930    5057.0           3\n",
       "2      559000    3     3  1800       2003    1711.0          25\n",
       "3      738888    4     3  1860       1960    4000.0          68\n",
       "4      569900    3     4  1747       2021    2090.0          39\n",
       "...       ...  ...   ...   ...        ...       ...         ...\n",
       "1145   700000    4     3  2520       1920    5750.0           5\n",
       "1146   549000    3     2  1226       1935    2400.0          41\n",
       "1147  2699999    4     5  5794       2008   11718.0          34\n",
       "1148  2500000    5     3  2280       1901    2000.0          12\n",
       "1149   599900    3     3  1488       1999    2040.0          46\n",
       "\n",
       "[1148 rows x 7 columns]"
      ]
     },
     "execution_count": 51,
     "metadata": {},
     "output_type": "execute_result"
    }
   ],
   "source": [
    "new_house_features= new_house_features[new_house_features.year_built  != 'No Data']\n",
    "new_house_features\n",
    "\n",
    "#df = df[df.line_race != 0]"
   ]
  },
  {
   "cell_type": "code",
   "execution_count": 52,
   "metadata": {},
   "outputs": [
    {
     "data": {
      "text/plain": [
       "count    1148.000000\n",
       "mean        2.707317\n",
       "std         1.387344\n",
       "min         1.000000\n",
       "25%         2.000000\n",
       "50%         2.000000\n",
       "75%         3.000000\n",
       "max        12.000000\n",
       "Name: bath, dtype: float64"
      ]
     },
     "execution_count": 52,
     "metadata": {},
     "output_type": "execute_result"
    }
   ],
   "source": [
    "new_house_features.bath.describe()"
   ]
  },
  {
   "cell_type": "code",
   "execution_count": 53,
   "metadata": {},
   "outputs": [
    {
     "data": {
      "text/plain": [
       "array(['2009', '1930', '2003', '1960', '2021', '1901', '1986', '1910',\n",
       "       '1965', '1990', '1975', '1940', '1935', '1945', '1987', '1966',\n",
       "       '1970', '1980', '1915', '1925', '1983', '1998', '1999', '2015',\n",
       "       '1982', '1997', '1950', '1951', '1920', '2018', '1991', '1974',\n",
       "       '1971', '1956', '1955', '2013', '1962', '1978', '1880', '1899',\n",
       "       '2020', '1985', '1996', '2017', '2001', '1905', '1993', '1989',\n",
       "       '1988', '2005', '1900', '2016', '1972', '2004', '2006', '2007',\n",
       "       '1968', '1994', '1981', '1931', '2022', '2002', '2000', '1957',\n",
       "       '1995', '1973', '1992', '1918', '1923', '2014', '1976', '1948',\n",
       "       '1921', '1979', '2019', '1954', '1977', '1912', '1919', '1963',\n",
       "       '1967', '1969', '1932', '1875', '2008', '1984', '1958', '1964',\n",
       "       '1953', '1872', '2010', '1961', '2011', '1860', '1926', '1937',\n",
       "       '1833', '2012', '1941', '1924', '1946', '1907', '1952', '1835',\n",
       "       '1942', '1947'], dtype=object)"
      ]
     },
     "execution_count": 53,
     "metadata": {},
     "output_type": "execute_result"
    }
   ],
   "source": [
    "uniqueValues = new_house_features['year_built'].unique()\n",
    "uniqueValues\n",
    "\n"
   ]
  },
  {
   "cell_type": "code",
   "execution_count": 54,
   "metadata": {},
   "outputs": [
    {
     "data": {
      "text/html": [
       "<div>\n",
       "<style scoped>\n",
       "    .dataframe tbody tr th:only-of-type {\n",
       "        vertical-align: middle;\n",
       "    }\n",
       "\n",
       "    .dataframe tbody tr th {\n",
       "        vertical-align: top;\n",
       "    }\n",
       "\n",
       "    .dataframe thead th {\n",
       "        text-align: right;\n",
       "    }\n",
       "</style>\n",
       "<table border=\"1\" class=\"dataframe\">\n",
       "  <thead>\n",
       "    <tr style=\"text-align: right;\">\n",
       "      <th></th>\n",
       "      <th>price</th>\n",
       "      <th>bed</th>\n",
       "      <th>bath</th>\n",
       "      <th>sqft</th>\n",
       "      <th>year_built</th>\n",
       "      <th>lot_size</th>\n",
       "      <th>num_photos</th>\n",
       "    </tr>\n",
       "  </thead>\n",
       "  <tbody>\n",
       "    <tr>\n",
       "      <th>0</th>\n",
       "      <td>1925000</td>\n",
       "      <td>2</td>\n",
       "      <td>2</td>\n",
       "      <td>1212</td>\n",
       "      <td>2009</td>\n",
       "      <td>10174.0</td>\n",
       "      <td>13</td>\n",
       "    </tr>\n",
       "    <tr>\n",
       "      <th>1</th>\n",
       "      <td>330000</td>\n",
       "      <td>4</td>\n",
       "      <td>2</td>\n",
       "      <td>1629</td>\n",
       "      <td>1930</td>\n",
       "      <td>5057.0</td>\n",
       "      <td>3</td>\n",
       "    </tr>\n",
       "    <tr>\n",
       "      <th>2</th>\n",
       "      <td>559000</td>\n",
       "      <td>3</td>\n",
       "      <td>3</td>\n",
       "      <td>1800</td>\n",
       "      <td>2003</td>\n",
       "      <td>1711.0</td>\n",
       "      <td>25</td>\n",
       "    </tr>\n",
       "    <tr>\n",
       "      <th>3</th>\n",
       "      <td>738888</td>\n",
       "      <td>4</td>\n",
       "      <td>3</td>\n",
       "      <td>1860</td>\n",
       "      <td>1960</td>\n",
       "      <td>4000.0</td>\n",
       "      <td>68</td>\n",
       "    </tr>\n",
       "    <tr>\n",
       "      <th>4</th>\n",
       "      <td>569900</td>\n",
       "      <td>3</td>\n",
       "      <td>4</td>\n",
       "      <td>1747</td>\n",
       "      <td>2021</td>\n",
       "      <td>2090.0</td>\n",
       "      <td>39</td>\n",
       "    </tr>\n",
       "    <tr>\n",
       "      <th>...</th>\n",
       "      <td>...</td>\n",
       "      <td>...</td>\n",
       "      <td>...</td>\n",
       "      <td>...</td>\n",
       "      <td>...</td>\n",
       "      <td>...</td>\n",
       "      <td>...</td>\n",
       "    </tr>\n",
       "    <tr>\n",
       "      <th>1145</th>\n",
       "      <td>700000</td>\n",
       "      <td>4</td>\n",
       "      <td>3</td>\n",
       "      <td>2520</td>\n",
       "      <td>1920</td>\n",
       "      <td>5750.0</td>\n",
       "      <td>5</td>\n",
       "    </tr>\n",
       "    <tr>\n",
       "      <th>1146</th>\n",
       "      <td>549000</td>\n",
       "      <td>3</td>\n",
       "      <td>2</td>\n",
       "      <td>1226</td>\n",
       "      <td>1935</td>\n",
       "      <td>2400.0</td>\n",
       "      <td>41</td>\n",
       "    </tr>\n",
       "    <tr>\n",
       "      <th>1147</th>\n",
       "      <td>2699999</td>\n",
       "      <td>4</td>\n",
       "      <td>5</td>\n",
       "      <td>5794</td>\n",
       "      <td>2008</td>\n",
       "      <td>11718.0</td>\n",
       "      <td>34</td>\n",
       "    </tr>\n",
       "    <tr>\n",
       "      <th>1148</th>\n",
       "      <td>2500000</td>\n",
       "      <td>5</td>\n",
       "      <td>3</td>\n",
       "      <td>2280</td>\n",
       "      <td>1901</td>\n",
       "      <td>2000.0</td>\n",
       "      <td>12</td>\n",
       "    </tr>\n",
       "    <tr>\n",
       "      <th>1149</th>\n",
       "      <td>599900</td>\n",
       "      <td>3</td>\n",
       "      <td>3</td>\n",
       "      <td>1488</td>\n",
       "      <td>1999</td>\n",
       "      <td>2040.0</td>\n",
       "      <td>46</td>\n",
       "    </tr>\n",
       "  </tbody>\n",
       "</table>\n",
       "<p>1148 rows × 7 columns</p>\n",
       "</div>"
      ],
      "text/plain": [
       "        price  bed  bath  sqft  year_built  lot_size  num_photos\n",
       "0     1925000    2     2  1212        2009   10174.0          13\n",
       "1      330000    4     2  1629        1930    5057.0           3\n",
       "2      559000    3     3  1800        2003    1711.0          25\n",
       "3      738888    4     3  1860        1960    4000.0          68\n",
       "4      569900    3     4  1747        2021    2090.0          39\n",
       "...       ...  ...   ...   ...         ...       ...         ...\n",
       "1145   700000    4     3  2520        1920    5750.0           5\n",
       "1146   549000    3     2  1226        1935    2400.0          41\n",
       "1147  2699999    4     5  5794        2008   11718.0          34\n",
       "1148  2500000    5     3  2280        1901    2000.0          12\n",
       "1149   599900    3     3  1488        1999    2040.0          46\n",
       "\n",
       "[1148 rows x 7 columns]"
      ]
     },
     "execution_count": 54,
     "metadata": {},
     "output_type": "execute_result"
    }
   ],
   "source": [
    "\n",
    "new_house_features['year_built'] = new_house_features['year_built'].astype(int)\n",
    "new_house_features"
   ]
  },
  {
   "cell_type": "code",
   "execution_count": 55,
   "metadata": {},
   "outputs": [
    {
     "data": {
      "text/plain": [
       "<AxesSubplot:>"
      ]
     },
     "execution_count": 55,
     "metadata": {},
     "output_type": "execute_result"
    },
    {
     "data": {
      "image/png": "[encoded data removed]",
      "text/plain": [
       "<Figure size 432x288 with 2 Axes>"
      ]
     },
     "metadata": {
      "needs_background": "light"
     },
     "output_type": "display_data"
    }
   ],
   "source": [
    "# check for any correlations between variables\n",
    "corr = new_house_features.corr()\n",
    "sns.heatmap(corr)\n",
    "# number of bathrooms seems to have the highest influence on price, followed by number of bedrooms and squarefootage\n",
    "#this is surprising because i would have expected squarefootage to have the greatest influence on price, \n",
    "#followed by number of bedrooms and number of bathrooms\n",
    "\n"
   ]
  },
  {
   "cell_type": "code",
   "execution_count": 56,
   "metadata": {},
   "outputs": [
    {
     "data": {
      "image/png": "[encoded data removed]",
      "text/plain": [
       "<Figure size 432x288 with 1 Axes>"
      ]
     },
     "metadata": {
      "needs_background": "light"
     },
     "output_type": "display_data"
    },
    {
     "data": {
      "text/plain": [
       "<function seaborn.utils.despine(fig=None, ax=None, top=True, right=True, left=False, bottom=False, offset=None, trim=False)>"
      ]
     },
     "execution_count": 56,
     "metadata": {},
     "output_type": "execute_result"
    }
   ],
   "source": [
    "#Plotting some of the features against price: \n",
    "\n",
    "plt.scatter(new_house_features.bed, new_house_features.price)\n",
    "plt.title(\"Number of Bedrooms vs Price\")\n",
    "plt.xlabel(\"Number of Bedrooms\")\n",
    "plt.ylabel(\"Price\")\n",
    "plt.show()\n",
    "sns.despine"
   ]
  },
  {
   "cell_type": "code",
   "execution_count": 57,
   "metadata": {},
   "outputs": [
    {
     "data": {
      "image/png": "[encoded data removed]",
      "text/plain": [
       "<Figure size 432x288 with 1 Axes>"
      ]
     },
     "metadata": {
      "needs_background": "light"
     },
     "output_type": "display_data"
    },
    {
     "data": {
      "text/plain": [
       "<function seaborn.utils.despine(fig=None, ax=None, top=True, right=True, left=False, bottom=False, offset=None, trim=False)>"
      ]
     },
     "execution_count": 57,
     "metadata": {},
     "output_type": "execute_result"
    }
   ],
   "source": [
    "plt.scatter(new_house_features.bath, new_house_features.price)\n",
    "plt.title(\"Number of Bathrooms vs Price\")\n",
    "plt.xlabel(\"Number of Bathrooms\")\n",
    "plt.ylabel(\"Price\")\n",
    "plt.show()\n",
    "sns.despine"
   ]
  },
  {
   "cell_type": "code",
   "execution_count": 58,
   "metadata": {},
   "outputs": [
    {
     "data": {
      "image/png": "[encoded data removed]",
      "text/plain": [
       "<Figure size 432x288 with 1 Axes>"
      ]
     },
     "metadata": {
      "needs_background": "light"
     },
     "output_type": "display_data"
    },
    {
     "data": {
      "text/plain": [
       "<function seaborn.utils.despine(fig=None, ax=None, top=True, right=True, left=False, bottom=False, offset=None, trim=False)>"
      ]
     },
     "execution_count": 58,
     "metadata": {},
     "output_type": "execute_result"
    }
   ],
   "source": [
    "plt.scatter(new_house_features.sqft, new_house_features.price)\n",
    "plt.title(\"Squarefootage vs Price\")\n",
    "plt.xlabel(\"Squarefootage\")\n",
    "plt.ylabel(\"Price\")\n",
    "plt.show()\n",
    "sns.despine"
   ]
  },
  {
   "cell_type": "code",
   "execution_count": 59,
   "metadata": {},
   "outputs": [
    {
     "data": {
      "image/png": "[encoded data removed]",
      "text/plain": [
       "<Figure size 432x288 with 1 Axes>"
      ]
     },
     "metadata": {
      "needs_background": "light"
     },
     "output_type": "display_data"
    },
    {
     "data": {
      "text/plain": [
       "<function seaborn.utils.despine(fig=None, ax=None, top=True, right=True, left=False, bottom=False, offset=None, trim=False)>"
      ]
     },
     "execution_count": 59,
     "metadata": {},
     "output_type": "execute_result"
    }
   ],
   "source": [
    "plt.scatter(new_house_features.lot_size, new_house_features.price)\n",
    "plt.title(\"Lot Size vs Price\")\n",
    "plt.xlabel(\"Lot Size\")\n",
    "plt.ylabel(\"Price\")\n",
    "plt.show()\n",
    "sns.despine"
   ]
  },
  {
   "cell_type": "code",
   "execution_count": 60,
   "metadata": {},
   "outputs": [
    {
     "data": {
      "image/png": "[encoded data removed]",
      "text/plain": [
       "<Figure size 432x288 with 1 Axes>"
      ]
     },
     "metadata": {
      "needs_background": "light"
     },
     "output_type": "display_data"
    },
    {
     "data": {
      "text/plain": [
       "<function seaborn.utils.despine(fig=None, ax=None, top=True, right=True, left=False, bottom=False, offset=None, trim=False)>"
      ]
     },
     "execution_count": 60,
     "metadata": {},
     "output_type": "execute_result"
    }
   ],
   "source": [
    "plt.scatter(new_house_features.num_photos, new_house_features.price)\n",
    "plt.title(\"Number of Photos vs Price\")\n",
    "plt.xlabel(\"Number of Photos\")\n",
    "plt.ylabel(\"Price\")\n",
    "plt.show()\n",
    "sns.despine"
   ]
  },
  {
   "cell_type": "markdown",
   "metadata": {},
   "source": [
    "##  Building a simple linear regression model: "
   ]
  },
  {
   "cell_type": "code",
   "execution_count": 24,
   "metadata": {},
   "outputs": [],
   "source": [
    "# create x and y\n",
    "feature_cols = 'bath' \n",
    "x = new_house_features[feature_cols].values.reshape(-1,1) # predictor\n",
    "y = new_house_features.price # response\n",
    "train1= new_house_features.drop(['lot_size', 'num_photos'], axis=1)\n",
    "\n",
    "\n",
    "\n",
    "\n",
    "\n",
    "####Reference notes####\n",
    "\n",
    "#x_train , x_test , y_train , y_test = train_test_split(train1 , labels , test_size = 0.10,random_state =2)\n",
    "\n",
    "# Capture our feature (x) and target (y)\n",
    "#X = df_anscombe_1['x'].values.reshape(-1, 1)  # SKLearn won't take a single Pandas Series\n",
    "#y = df_anscombe_1['y']\n",
    "\n",
    "# Let SKLearn fit the best line\n",
    "#lm = LinearRegression()\n",
    "#lm.fit(X, y)\n",
    "\n",
    "\n",
    "\n",
    "\n",
    "\n",
    "\n",
    "\n"
   ]
  },
  {
   "cell_type": "code",
   "execution_count": 25,
   "metadata": {},
   "outputs": [],
   "source": [
    "# split data into train and test\n",
    "x_train, x_test, y_train, y_test = train_test_split(x, y, test_size=0.10, random_state =2) \n",
    "# the test set will be 20% of the whole data set"
   ]
  },
  {
   "cell_type": "code",
   "execution_count": 26,
   "metadata": {},
   "outputs": [
    {
     "data": {
      "text/plain": [
       "LinearRegression()"
      ]
     },
     "execution_count": 26,
     "metadata": {},
     "output_type": "execute_result"
    }
   ],
   "source": [
    "# instantiate, fit\n",
    "linreg = LinearRegression()\n",
    "linreg.fit(x_train, y_train)"
   ]
  },
  {
   "cell_type": "code",
   "execution_count": 27,
   "metadata": {},
   "outputs": [
    {
     "data": {
      "text/plain": [
       "0.14826625502823654"
      ]
     },
     "execution_count": 27,
     "metadata": {},
     "output_type": "execute_result"
    }
   ],
   "source": [
    "linreg.score(x_test,y_test)"
   ]
  },
  {
   "cell_type": "code",
   "execution_count": 28,
   "metadata": {},
   "outputs": [],
   "source": [
    "#Very small "
   ]
  },
  {
   "cell_type": "code",
   "execution_count": 29,
   "metadata": {},
   "outputs": [
    {
     "name": "stdout",
     "output_type": "stream",
     "text": [
      "-1476332.3340953453\n"
     ]
    }
   ],
   "source": [
    "print(linreg.intercept_)"
   ]
  },
  {
   "cell_type": "code",
   "execution_count": 30,
   "metadata": {},
   "outputs": [
    {
     "name": "stdout",
     "output_type": "stream",
     "text": [
      "[1023122.76495909]\n"
     ]
    }
   ],
   "source": [
    "print(linreg.coef_)"
   ]
  },
  {
   "cell_type": "code",
   "execution_count": 31,
   "metadata": {},
   "outputs": [],
   "source": [
    "#This slope means that for every additional bathroom, house price goes up $1,023,122 --> that seems wayyyyyy off. \n",
    "#Somethings wrong :/"
   ]
  },
  {
   "cell_type": "code",
   "execution_count": 39,
   "metadata": {},
   "outputs": [
    {
     "data": {
      "text/plain": [
       "array([569913.19582283])"
      ]
     },
     "execution_count": 39,
     "metadata": {},
     "output_type": "execute_result"
    }
   ],
   "source": [
    "#Making predictions: \n",
    "\n",
    "import numpy as np\n",
    "\n",
    "x_train = np.array([[2]])\n",
    "x_train.shape\n",
    "linreg.predict(x_train)"
   ]
  },
  {
   "cell_type": "markdown",
   "metadata": {},
   "source": [
    "For a house with 2 bathrooms, the price would be $569,913---> seems a tad high, although not improbable,domain knowledge tells me this feature isn't the main factor impacting the price. Must explore other features/ do some feature engineering.."
   ]
  },
  {
   "cell_type": "markdown",
   "metadata": {},
   "source": [
    "## Multiple Features:"
   ]
  },
  {
   "cell_type": "code",
   "execution_count": 42,
   "metadata": {},
   "outputs": [
    {
     "data": {
      "text/html": [
       "<table class=\"simpletable\">\n",
       "<caption>OLS Regression Results</caption>\n",
       "<tr>\n",
       "  <th>Dep. Variable:</th>          <td>price</td>      <th>  R-squared:         </th> <td>   0.242</td> \n",
       "</tr>\n",
       "<tr>\n",
       "  <th>Model:</th>                   <td>OLS</td>       <th>  Adj. R-squared:    </th> <td>   0.239</td> \n",
       "</tr>\n",
       "<tr>\n",
       "  <th>Method:</th>             <td>Least Squares</td>  <th>  F-statistic:       </th> <td>   73.01</td> \n",
       "</tr>\n",
       "<tr>\n",
       "  <th>Date:</th>             <td>Tue, 11 May 2021</td> <th>  Prob (F-statistic):</th> <td>2.02e-66</td> \n",
       "</tr>\n",
       "<tr>\n",
       "  <th>Time:</th>                 <td>06:22:00</td>     <th>  Log-Likelihood:    </th> <td> -18566.</td> \n",
       "</tr>\n",
       "<tr>\n",
       "  <th>No. Observations:</th>      <td>  1148</td>      <th>  AIC:               </th> <td>3.714e+04</td>\n",
       "</tr>\n",
       "<tr>\n",
       "  <th>Df Residuals:</th>          <td>  1142</td>      <th>  BIC:               </th> <td>3.717e+04</td>\n",
       "</tr>\n",
       "<tr>\n",
       "  <th>Df Model:</th>              <td>     5</td>      <th>                     </th>     <td> </td>    \n",
       "</tr>\n",
       "<tr>\n",
       "  <th>Covariance Type:</th>      <td>nonrobust</td>    <th>                     </th>     <td> </td>    \n",
       "</tr>\n",
       "</table>\n",
       "<table class=\"simpletable\">\n",
       "<tr>\n",
       "       <td></td>         <th>coef</th>     <th>std err</th>      <th>t</th>      <th>P>|t|</th>  <th>[0.025</th>    <th>0.975]</th>  \n",
       "</tr>\n",
       "<tr>\n",
       "  <th>const</th>      <td> 1.517e+07</td> <td> 4.39e+06</td> <td>    3.454</td> <td> 0.001</td> <td> 6.55e+06</td> <td> 2.38e+07</td>\n",
       "</tr>\n",
       "<tr>\n",
       "  <th>bed</th>        <td>-1.056e+05</td> <td> 6.94e+04</td> <td>   -1.521</td> <td> 0.128</td> <td>-2.42e+05</td> <td> 3.06e+04</td>\n",
       "</tr>\n",
       "<tr>\n",
       "  <th>bath</th>       <td> 1.067e+06</td> <td> 7.29e+04</td> <td>   14.637</td> <td> 0.000</td> <td> 9.24e+05</td> <td> 1.21e+06</td>\n",
       "</tr>\n",
       "<tr>\n",
       "  <th>sqft</th>       <td>   50.7811</td> <td>   13.776</td> <td>    3.686</td> <td> 0.000</td> <td>   23.753</td> <td>   77.810</td>\n",
       "</tr>\n",
       "<tr>\n",
       "  <th>lot_size</th>   <td>   -0.0092</td> <td>    0.029</td> <td>   -0.312</td> <td> 0.755</td> <td>   -0.067</td> <td>    0.049</td>\n",
       "</tr>\n",
       "<tr>\n",
       "  <th>year_built</th> <td>-8463.6876</td> <td> 2231.370</td> <td>   -3.793</td> <td> 0.000</td> <td>-1.28e+04</td> <td>-4085.643</td>\n",
       "</tr>\n",
       "</table>\n",
       "<table class=\"simpletable\">\n",
       "<tr>\n",
       "  <th>Omnibus:</th>       <td>1783.428</td> <th>  Durbin-Watson:     </th>  <td>   1.996</td> \n",
       "</tr>\n",
       "<tr>\n",
       "  <th>Prob(Omnibus):</th>  <td> 0.000</td>  <th>  Jarque-Bera (JB):  </th> <td>822902.177</td>\n",
       "</tr>\n",
       "<tr>\n",
       "  <th>Skew:</th>           <td> 9.311</td>  <th>  Prob(JB):          </th>  <td>    0.00</td> \n",
       "</tr>\n",
       "<tr>\n",
       "  <th>Kurtosis:</th>       <td>132.833</td> <th>  Cond. No.          </th>  <td>1.49e+08</td> \n",
       "</tr>\n",
       "</table><br/><br/>Notes:<br/>[1] Standard Errors assume that the covariance matrix of the errors is correctly specified.<br/>[2] The condition number is large, 1.49e+08. This might indicate that there are<br/>strong multicollinearity or other numerical problems."
      ],
      "text/plain": [
       "<class 'statsmodels.iolib.summary.Summary'>\n",
       "\"\"\"\n",
       "                            OLS Regression Results                            \n",
       "==============================================================================\n",
       "Dep. Variable:                  price   R-squared:                       0.242\n",
       "Model:                            OLS   Adj. R-squared:                  0.239\n",
       "Method:                 Least Squares   F-statistic:                     73.01\n",
       "Date:                Tue, 11 May 2021   Prob (F-statistic):           2.02e-66\n",
       "Time:                        06:22:00   Log-Likelihood:                -18566.\n",
       "No. Observations:                1148   AIC:                         3.714e+04\n",
       "Df Residuals:                    1142   BIC:                         3.717e+04\n",
       "Df Model:                           5                                         \n",
       "Covariance Type:            nonrobust                                         \n",
       "==============================================================================\n",
       "                 coef    std err          t      P>|t|      [0.025      0.975]\n",
       "------------------------------------------------------------------------------\n",
       "const       1.517e+07   4.39e+06      3.454      0.001    6.55e+06    2.38e+07\n",
       "bed        -1.056e+05   6.94e+04     -1.521      0.128   -2.42e+05    3.06e+04\n",
       "bath        1.067e+06   7.29e+04     14.637      0.000    9.24e+05    1.21e+06\n",
       "sqft          50.7811     13.776      3.686      0.000      23.753      77.810\n",
       "lot_size      -0.0092      0.029     -0.312      0.755      -0.067       0.049\n",
       "year_built -8463.6876   2231.370     -3.793      0.000   -1.28e+04   -4085.643\n",
       "==============================================================================\n",
       "Omnibus:                     1783.428   Durbin-Watson:                   1.996\n",
       "Prob(Omnibus):                  0.000   Jarque-Bera (JB):           822902.177\n",
       "Skew:                           9.311   Prob(JB):                         0.00\n",
       "Kurtosis:                     132.833   Cond. No.                     1.49e+08\n",
       "==============================================================================\n",
       "\n",
       "Notes:\n",
       "[1] Standard Errors assume that the covariance matrix of the errors is correctly specified.\n",
       "[2] The condition number is large, 1.49e+08. This might indicate that there are\n",
       "strong multicollinearity or other numerical problems.\n",
       "\"\"\""
      ]
     },
     "execution_count": 42,
     "metadata": {},
     "output_type": "execute_result"
    }
   ],
   "source": [
    "# Select our features\n",
    "\n",
    "import statsmodels.api as sm\n",
    "\n",
    "features = ['bed', 'bath', 'sqft', 'lot_size', 'year_built']\n",
    "X = new_house_features[features]\n",
    "X = sm.add_constant(X)  # We want our model to include a constant value (modeled by the y-intercept)\n",
    "\n",
    "# Pick the target\n",
    "y = new_house_features[\"price\"]\n",
    "\n",
    "# Fit model with target as housing price index\n",
    "lm_2 = sm.OLS(y, X)  # Notice that `y` is first here\n",
    "\n",
    "lm_2 = lm_2.fit()\n",
    "\n",
    "# summarize our model\n",
    "lm_2.summary()"
   ]
  },
  {
   "cell_type": "code",
   "execution_count": null,
   "metadata": {},
   "outputs": [],
   "source": [
    "#y-intercept is 1.517e+07\n",
    "# bed has a coefficient of -1.056e+05\n",
    "# bath has a coefficient of 1.067e+06\n",
    "# sqft has a coefficient of 50.7811\n",
    "# lot_size has a coefficient of -0.0092\n",
    "#year_built has a coefficient of -8463.6876 \n",
    "\n",
    "#is this saying bed and bath have inverse relationships with regards to their correlation with y? \n",
    "\n",
    "#if we keep bed constant, when bath increases by one unit, we predict price to go down by -1.056e+05 points.  \n"
   ]
  },
  {
   "cell_type": "markdown",
   "metadata": {},
   "source": [
    "## Visualize"
   ]
  },
  {
   "cell_type": "code",
   "execution_count": 43,
   "metadata": {},
   "outputs": [
    {
     "data": {
      "image/png": "[encoded data removed]",
      "text/plain": [
       "<Figure size 432x288 with 1 Axes>"
      ]
     },
     "metadata": {
      "needs_background": "light"
     },
     "output_type": "display_data"
    }
   ],
   "source": [
    "# Build a 3D axis\n",
    "plt3d = plt.figure().gca(projection='3d')\n",
    "\n",
    "# Create mesh grid for our two features (x_1 and x_2)\n",
    "x_1 = np.linspace(X['bed'].min(), \n",
    "                  X['bed'].max(), \n",
    "                  10)\n",
    "\n",
    "x_2 = np.linspace(X['bath'].min(), \n",
    "                  X['bath'].max(), \n",
    "                  10)\n",
    "\n",
    "# This is exactly the linear combination above, to calculate y-hat!\n",
    "y_pred = lm_2.params['const'] + \\\n",
    "         lm_2.params['bed'] * x_1 + \\\n",
    "         lm_2.params['bath'] * x_2\n",
    "\n",
    "# The surface plotting requires `y` to be two dimensional (rows, columns)\n",
    "y_pred = y_pred.reshape(-1, 1)\n",
    "\n",
    "xx_1, xx_2 = np.meshgrid(x_1, x_2)\n",
    "\n",
    "plt3d.plot_surface(xx_1, xx_2, y_pred, alpha=0.2)\n",
    "\n",
    "# Ensure that the next plot doesn't overwrite the first plot\n",
    "ax = plt.gca()\n",
    "\n",
    "ax.scatter(X['bed'], X['bath'], y, color='green')\n",
    "ax.set_zlabel(\"price\", rotation=90)\n",
    "ax.set_xlabel(\"bed\")\n",
    "ax.set_ylabel(\"bath\")\n",
    "\n",
    "for a in ['x', 'y', 'z']:\n",
    "    ax.locator_params(axis=a, nbins=4)\n",
    "\n",
    "plt.tight_layout();"
   ]
  },
  {
   "cell_type": "code",
   "execution_count": null,
   "metadata": {},
   "outputs": [],
   "source": [
    "#cant see whats going on here, seems like a lot of overlap. Might be a sign of multicolinearity?"
   ]
  },
  {
   "cell_type": "code",
   "execution_count": null,
   "metadata": {},
   "outputs": [],
   "source": []
  },
  {
   "cell_type": "markdown",
   "metadata": {},
   "source": [
    "## (Mis)interpretation (source: from lin reg theory intro book): (using to refer back) \n",
    "Looking at this image, we may be inclined to say something like a decrease in Labor Force % and a decrease in Long Interest Rate cause the HPI to increase. We cannot draw causation from this linear model..\n",
    "There could be something we aren't measuring affecting the HPI and either of the features. It may be that HPI decreases with labor_force_pr, but we're seeing the increase due to the universal influence of some other factor (if this other confounding variable is categorical, we have a situation described in the last bullet here).\n",
    "labor_force_pr and long_interest_rate may be linearly dependent. In this way, the model optimization process may assign coefficients arbitrarily between the two (since they could be written as linear combinations of the other, keeping one \"constant\" means the same thing for any constant).\n",
    "The relationship could be purly spurious (unrelated), and we're essentially seeing a coincidence.\n",
    "There are subgroups within either of these features that we're missing, which tell a more interesting story that negates our first intuition (See an illustartion of Edward H. Simpson's Paradox below, actually earlier recognized by Karl Pearson, et. al.)."
   ]
  },
  {
   "cell_type": "code",
   "execution_count": null,
   "metadata": {},
   "outputs": [],
   "source": []
  },
  {
   "cell_type": "code",
   "execution_count": null,
   "metadata": {},
   "outputs": [],
   "source": []
  },
  {
   "cell_type": "code",
   "execution_count": null,
   "metadata": {},
   "outputs": [],
   "source": []
  },
  {
   "cell_type": "code",
   "execution_count": null,
   "metadata": {},
   "outputs": [],
   "source": []
  },
  {
   "cell_type": "markdown",
   "metadata": {},
   "source": [
    "#### Ignore the rest for now"
   ]
  },
  {
   "cell_type": "code",
   "execution_count": 36,
   "metadata": {},
   "outputs": [],
   "source": [
    "#labels= new_house_features['price']\n",
    "#conv_dates= [1 if values>=2010 else 0 for values in new_house_features.year_built]\n",
    "#new_house_features['year_built']= conv_dates\n",
    "#train1= new_house_features.drop(['lot_size', 'num_photos'], axis=1)"
   ]
  },
  {
   "cell_type": "code",
   "execution_count": 37,
   "metadata": {},
   "outputs": [],
   "source": [
    "#from sklearn.model_selection import train_test_split"
   ]
  },
  {
   "cell_type": "code",
   "execution_count": 38,
   "metadata": {},
   "outputs": [],
   "source": [
    "#x_train , x_test , y_train , y_test = train_test_split(train1 , labels , test_size = 0.10,random_state =2)"
   ]
  },
  {
   "cell_type": "code",
   "execution_count": 40,
   "metadata": {},
   "outputs": [],
   "source": [
    "#linreg.fit(x_train,y_train)"
   ]
  },
  {
   "cell_type": "code",
   "execution_count": 41,
   "metadata": {},
   "outputs": [],
   "source": [
    "#reg.score(x_test,y_test)"
   ]
  },
  {
   "cell_type": "code",
   "execution_count": 11,
   "metadata": {},
   "outputs": [],
   "source": []
  }
 ],
 "metadata": {
  "kernelspec": {
   "display_name": "Python 3",
   "language": "python",
   "name": "python3"
  },
  "language_info": {
   "codemirror_mode": {
    "name": "ipython",
    "version": 3
   },
   "file_extension": ".py",
   "mimetype": "text/x-python",
   "name": "python",
   "nbconvert_exporter": "python",
   "pygments_lexer": "ipython3",
   "version": "3.8.5"
  }
 },
 "nbformat": 4,
 "nbformat_minor": 4
}
