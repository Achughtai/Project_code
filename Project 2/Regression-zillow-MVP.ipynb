{
 "cells": [
  {
   "cell_type": "code",
   "execution_count": 23,
   "metadata": {},
   "outputs": [],
   "source": [
    "import pandas as pd\n",
    "import numpy as np\n",
    "from sklearn.model_selection import train_test_split\n",
    "from sklearn.linear_model import LinearRegression, Lasso, LassoCV, Ridge, RidgeCV\n",
    "from sklearn.metrics import r2_score\n",
    "from sklearn.metrics import mean_absolute_error\n",
    "\n",
    "import matplotlib.pyplot as plt\n",
    "import seaborn as sns\n",
    "%matplotlib inline\n",
    "\n",
    "sns.set(context='notebook', style='whitegrid', font_scale=1.2)"
   ]
  },
  {
   "cell_type": "code",
   "execution_count": 7,
   "metadata": {},
   "outputs": [],
   "source": [
    "house_df = pd.read_csv('house_price_prediction_prelim_features.csv')"
   ]
  },
  {
   "cell_type": "code",
   "execution_count": 8,
   "metadata": {},
   "outputs": [
    {
     "data": {
      "text/html": [
       "<div>\n",
       "<style scoped>\n",
       "    .dataframe tbody tr th:only-of-type {\n",
       "        vertical-align: middle;\n",
       "    }\n",
       "\n",
       "    .dataframe tbody tr th {\n",
       "        vertical-align: top;\n",
       "    }\n",
       "\n",
       "    .dataframe thead th {\n",
       "        text-align: right;\n",
       "    }\n",
       "</style>\n",
       "<table border=\"1\" class=\"dataframe\">\n",
       "  <thead>\n",
       "    <tr style=\"text-align: right;\">\n",
       "      <th></th>\n",
       "      <th>price</th>\n",
       "      <th>bed</th>\n",
       "      <th>bath</th>\n",
       "      <th>sqft</th>\n",
       "      <th>zip</th>\n",
       "      <th>house_type</th>\n",
       "      <th>year_built</th>\n",
       "      <th>heating</th>\n",
       "      <th>cooling</th>\n",
       "      <th>lot_size</th>\n",
       "      <th>num_photos</th>\n",
       "      <th>population</th>\n",
       "      <th>density</th>\n",
       "      <th>Average household income</th>\n",
       "      <th>House_age</th>\n",
       "    </tr>\n",
       "  </thead>\n",
       "  <tbody>\n",
       "    <tr>\n",
       "      <th>0</th>\n",
       "      <td>1925000.0</td>\n",
       "      <td>2</td>\n",
       "      <td>2</td>\n",
       "      <td>1212</td>\n",
       "      <td>11215</td>\n",
       "      <td>Condo</td>\n",
       "      <td>2009</td>\n",
       "      <td>Forced air</td>\n",
       "      <td>Central</td>\n",
       "      <td>10174.0</td>\n",
       "      <td>13</td>\n",
       "      <td>69873</td>\n",
       "      <td>12404</td>\n",
       "      <td>53313.0</td>\n",
       "      <td>12</td>\n",
       "    </tr>\n",
       "    <tr>\n",
       "      <th>1</th>\n",
       "      <td>330000.0</td>\n",
       "      <td>4</td>\n",
       "      <td>2</td>\n",
       "      <td>1629</td>\n",
       "      <td>11412</td>\n",
       "      <td>SingleFamily</td>\n",
       "      <td>1930</td>\n",
       "      <td>No Data</td>\n",
       "      <td>No Data</td>\n",
       "      <td>5057.0</td>\n",
       "      <td>3</td>\n",
       "      <td>37857</td>\n",
       "      <td>8874</td>\n",
       "      <td>48536.0</td>\n",
       "      <td>91</td>\n",
       "    </tr>\n",
       "    <tr>\n",
       "      <th>2</th>\n",
       "      <td>559000.0</td>\n",
       "      <td>3</td>\n",
       "      <td>3</td>\n",
       "      <td>1800</td>\n",
       "      <td>10314</td>\n",
       "      <td>SingleFamily</td>\n",
       "      <td>2003</td>\n",
       "      <td>Forced air, Gas</td>\n",
       "      <td>Central</td>\n",
       "      <td>1711.0</td>\n",
       "      <td>25</td>\n",
       "      <td>89792</td>\n",
       "      <td>2534</td>\n",
       "      <td>59560.0</td>\n",
       "      <td>18</td>\n",
       "    </tr>\n",
       "  </tbody>\n",
       "</table>\n",
       "</div>"
      ],
      "text/plain": [
       "       price  bed  bath  sqft    zip    house_type  year_built  \\\n",
       "0  1925000.0    2     2  1212  11215         Condo        2009   \n",
       "1   330000.0    4     2  1629  11412  SingleFamily        1930   \n",
       "2   559000.0    3     3  1800  10314  SingleFamily        2003   \n",
       "\n",
       "           heating  cooling  lot_size  num_photos  population  density  \\\n",
       "0       Forced air  Central   10174.0          13       69873    12404   \n",
       "1          No Data  No Data    5057.0           3       37857     8874   \n",
       "2  Forced air, Gas  Central    1711.0          25       89792     2534   \n",
       "\n",
       "   Average household income  House_age  \n",
       "0                   53313.0         12  \n",
       "1                   48536.0         91  \n",
       "2                   59560.0         18  "
      ]
     },
     "execution_count": 8,
     "metadata": {},
     "output_type": "execute_result"
    }
   ],
   "source": [
    "house_df.head(3)"
   ]
  },
  {
   "cell_type": "code",
   "execution_count": 15,
   "metadata": {},
   "outputs": [
    {
     "name": "stdout",
     "output_type": "stream",
     "text": [
      "<class 'pandas.core.frame.DataFrame'>\n",
      "RangeIndex: 1348 entries, 0 to 1347\n",
      "Data columns (total 15 columns):\n",
      " #   Column                    Non-Null Count  Dtype  \n",
      "---  ------                    --------------  -----  \n",
      " 0   price                     1348 non-null   float64\n",
      " 1   bed                       1348 non-null   int64  \n",
      " 2   bath                      1348 non-null   int64  \n",
      " 3   sqft                      1348 non-null   int64  \n",
      " 4   zip                       1348 non-null   int64  \n",
      " 5   house_type                1348 non-null   object \n",
      " 6   year_built                1348 non-null   int64  \n",
      " 7   heating                   1348 non-null   object \n",
      " 8   cooling                   1348 non-null   object \n",
      " 9   lot_size                  1144 non-null   float64\n",
      " 10  num_photos                1348 non-null   int64  \n",
      " 11  population                1348 non-null   int64  \n",
      " 12  density                   1348 non-null   int64  \n",
      " 13  Average household income  1348 non-null   float64\n",
      " 14  House_age                 1348 non-null   int64  \n",
      "dtypes: float64(3), int64(9), object(3)\n",
      "memory usage: 158.1+ KB\n"
     ]
    }
   ],
   "source": [
    "house_df.info()"
   ]
  },
  {
   "cell_type": "code",
   "execution_count": 16,
   "metadata": {},
   "outputs": [],
   "source": [
    "house_df['lot_size'] = house_df['lot_size'].fillna(0)"
   ]
  },
  {
   "cell_type": "code",
   "execution_count": 17,
   "metadata": {},
   "outputs": [
    {
     "name": "stdout",
     "output_type": "stream",
     "text": [
      "<class 'pandas.core.frame.DataFrame'>\n",
      "RangeIndex: 1348 entries, 0 to 1347\n",
      "Data columns (total 15 columns):\n",
      " #   Column                    Non-Null Count  Dtype  \n",
      "---  ------                    --------------  -----  \n",
      " 0   price                     1348 non-null   float64\n",
      " 1   bed                       1348 non-null   int64  \n",
      " 2   bath                      1348 non-null   int64  \n",
      " 3   sqft                      1348 non-null   int64  \n",
      " 4   zip                       1348 non-null   int64  \n",
      " 5   house_type                1348 non-null   object \n",
      " 6   year_built                1348 non-null   int64  \n",
      " 7   heating                   1348 non-null   object \n",
      " 8   cooling                   1348 non-null   object \n",
      " 9   lot_size                  1348 non-null   float64\n",
      " 10  num_photos                1348 non-null   int64  \n",
      " 11  population                1348 non-null   int64  \n",
      " 12  density                   1348 non-null   int64  \n",
      " 13  Average household income  1348 non-null   float64\n",
      " 14  House_age                 1348 non-null   int64  \n",
      "dtypes: float64(3), int64(9), object(3)\n",
      "memory usage: 158.1+ KB\n"
     ]
    }
   ],
   "source": [
    "house_df.info()"
   ]
  },
  {
   "cell_type": "markdown",
   "metadata": {},
   "source": [
    "# Building a Baseline Model: "
   ]
  },
  {
   "cell_type": "code",
   "execution_count": 94,
   "metadata": {},
   "outputs": [],
   "source": [
    "from sklearn.linear_model import LinearRegression\n",
    "from sklearn.model_selection import train_test_split\n",
    "\n",
    "# Create an empty model\n",
    "lm = LinearRegression()"
   ]
  },
  {
   "cell_type": "code",
   "execution_count": 95,
   "metadata": {},
   "outputs": [],
   "source": [
    "#Fitting a simple model to include only numeric features\n",
    "\n",
    "X = house_df[['bed', 'bath', 'sqft', 'zip', 'year_built', 'House_age', 'lot_size', 'num_photos', 'population', 'density', 'Average household income']]\n",
    "\n",
    "#Target\n",
    "\n",
    "y= house_df['price']\n"
   ]
  },
  {
   "cell_type": "code",
   "execution_count": 96,
   "metadata": {},
   "outputs": [],
   "source": [
    "#Split the data 80 - 20 train/test\n",
    "X_train, X_test, y_train, y_test = train_test_split(X, y, train_size=0.80, random_state = 42)"
   ]
  },
  {
   "cell_type": "markdown",
   "metadata": {},
   "source": [
    "### Standard Scaling"
   ]
  },
  {
   "cell_type": "code",
   "execution_count": 97,
   "metadata": {},
   "outputs": [],
   "source": [
    "from sklearn.pipeline import Pipeline\n",
    "from sklearn.preprocessing import StandardScaler"
   ]
  },
  {
   "cell_type": "code",
   "execution_count": 98,
   "metadata": {},
   "outputs": [
    {
     "data": {
      "text/plain": [
       "StandardScaler()"
      ]
     },
     "execution_count": 98,
     "metadata": {},
     "output_type": "execute_result"
    }
   ],
   "source": [
    "std = StandardScaler()\n",
    "std.fit(X_train.values)"
   ]
  },
  {
   "cell_type": "code",
   "execution_count": 99,
   "metadata": {},
   "outputs": [],
   "source": [
    "X_tr = std.transform(X_train.values)"
   ]
  },
  {
   "cell_type": "code",
   "execution_count": 100,
   "metadata": {},
   "outputs": [],
   "source": [
    "X_te = std.transform(X_test.values)"
   ]
  },
  {
   "cell_type": "code",
   "execution_count": 101,
   "metadata": {},
   "outputs": [
    {
     "data": {
      "text/plain": [
       "LinearRegression()"
      ]
     },
     "execution_count": 101,
     "metadata": {},
     "output_type": "execute_result"
    }
   ],
   "source": [
    "# Fit  \n",
    "lm.fit(X_tr, y_train)"
   ]
  },
  {
   "cell_type": "code",
   "execution_count": 102,
   "metadata": {},
   "outputs": [
    {
     "data": {
      "text/plain": [
       "0.33533850781871744"
      ]
     },
     "execution_count": 102,
     "metadata": {},
     "output_type": "execute_result"
    }
   ],
   "source": [
    "lm.score(X_tr, y_train)"
   ]
  },
  {
   "cell_type": "code",
   "execution_count": 103,
   "metadata": {},
   "outputs": [
    {
     "data": {
      "text/plain": [
       "0.45001291994638726"
      ]
     },
     "execution_count": 103,
     "metadata": {},
     "output_type": "execute_result"
    }
   ],
   "source": [
    "lm.score(X_te, y_test)"
   ]
  },
  {
   "cell_type": "code",
   "execution_count": 104,
   "metadata": {},
   "outputs": [],
   "source": [
    "from sklearn.metrics import mean_squared_error\n",
    "from math import sqrt"
   ]
  },
  {
   "cell_type": "code",
   "execution_count": 105,
   "metadata": {},
   "outputs": [
    {
     "data": {
      "text/plain": [
       "(1078,)"
      ]
     },
     "execution_count": 105,
     "metadata": {},
     "output_type": "execute_result"
    }
   ],
   "source": [
    "# Compare the actual y values in the training set with the predicted values\n",
    "y_actual_train = y_train\n",
    "y_predicted_train = lm.predict(X_tr)\n",
    "y_predicted_train.shape"
   ]
  },
  {
   "cell_type": "code",
   "execution_count": 106,
   "metadata": {},
   "outputs": [
    {
     "data": {
      "text/plain": [
       "3640922.678890539"
      ]
     },
     "execution_count": 106,
     "metadata": {},
     "output_type": "execute_result"
    }
   ],
   "source": [
    "# Check the RMSE (root mean squared error) on the training data\n",
    "sqrt(mean_squared_error(y_actual_train, y_predicted_train))"
   ]
  },
  {
   "cell_type": "code",
   "execution_count": 107,
   "metadata": {},
   "outputs": [
    {
     "data": {
      "text/plain": [
       "(270,)"
      ]
     },
     "execution_count": 107,
     "metadata": {},
     "output_type": "execute_result"
    }
   ],
   "source": [
    "# Compare the actual y values in the test set with the predicted values\n",
    "y_actual_test = y_test\n",
    "y_predicted_test = lm.predict(X_te)\n",
    "y_predicted_test.shape"
   ]
  },
  {
   "cell_type": "code",
   "execution_count": 108,
   "metadata": {},
   "outputs": [
    {
     "data": {
      "text/plain": [
       "3412205.801578648"
      ]
     },
     "execution_count": 108,
     "metadata": {},
     "output_type": "execute_result"
    }
   ],
   "source": [
    "# Check the RMSE (root mean squared error) on the test data\n",
    "sqrt(mean_squared_error(y_actual_test, y_predicted_test))"
   ]
  },
  {
   "cell_type": "code",
   "execution_count": 109,
   "metadata": {
    "scrolled": true
   },
   "outputs": [
    {
     "data": {
      "text/plain": [
       "<seaborn.axisgrid.JointGrid at 0x7fa280c781c0>"
      ]
     },
     "execution_count": 109,
     "metadata": {},
     "output_type": "execute_result"
    },
    {
     "data": {
      "image/png": "[encoded data removed]",
      "text/plain": [
       "<Figure size 432x432 with 3 Axes>"
      ]
     },
     "metadata": {},
     "output_type": "display_data"
    }
   ],
   "source": [
    "preds = lm.predict(X_te)\n",
    "\n",
    "sns.jointplot(x=preds,y=y_test, kind='reg')"
   ]
  },
  {
   "cell_type": "code",
   "execution_count": 115,
   "metadata": {},
   "outputs": [],
   "source": [
    "#Looks like data needs to be log transformed "
   ]
  },
  {
   "cell_type": "code",
   "execution_count": 111,
   "metadata": {},
   "outputs": [],
   "source": [
    "import statsmodels.api as sm"
   ]
  },
  {
   "cell_type": "code",
   "execution_count": 112,
   "metadata": {},
   "outputs": [
    {
     "data": {
      "text/html": [
       "<table class=\"simpletable\">\n",
       "<caption>OLS Regression Results</caption>\n",
       "<tr>\n",
       "  <th>Dep. Variable:</th>          <td>price</td>      <th>  R-squared:         </th> <td>   0.335</td> \n",
       "</tr>\n",
       "<tr>\n",
       "  <th>Model:</th>                   <td>OLS</td>       <th>  Adj. R-squared:    </th> <td>   0.329</td> \n",
       "</tr>\n",
       "<tr>\n",
       "  <th>Method:</th>             <td>Least Squares</td>  <th>  F-statistic:       </th> <td>   53.83</td> \n",
       "</tr>\n",
       "<tr>\n",
       "  <th>Date:</th>             <td>Tue, 08 Jun 2021</td> <th>  Prob (F-statistic):</th> <td>1.01e-87</td> \n",
       "</tr>\n",
       "<tr>\n",
       "  <th>Time:</th>                 <td>17:12:34</td>     <th>  Log-Likelihood:    </th> <td> -17816.</td> \n",
       "</tr>\n",
       "<tr>\n",
       "  <th>No. Observations:</th>      <td>  1078</td>      <th>  AIC:               </th> <td>3.565e+04</td>\n",
       "</tr>\n",
       "<tr>\n",
       "  <th>Df Residuals:</th>          <td>  1067</td>      <th>  BIC:               </th> <td>3.571e+04</td>\n",
       "</tr>\n",
       "<tr>\n",
       "  <th>Df Model:</th>              <td>    10</td>      <th>                     </th>     <td> </td>    \n",
       "</tr>\n",
       "<tr>\n",
       "  <th>Covariance Type:</th>      <td>nonrobust</td>    <th>                     </th>     <td> </td>    \n",
       "</tr>\n",
       "</table>\n",
       "<table class=\"simpletable\">\n",
       "<tr>\n",
       "    <td></td>       <th>coef</th>     <th>std err</th>      <th>t</th>      <th>P>|t|</th>  <th>[0.025</th>    <th>0.975]</th>  \n",
       "</tr>\n",
       "<tr>\n",
       "  <th>const</th> <td> 1.651e+06</td> <td> 1.11e+05</td> <td>   14.815</td> <td> 0.000</td> <td> 1.43e+06</td> <td> 1.87e+06</td>\n",
       "</tr>\n",
       "<tr>\n",
       "  <th>x1</th>    <td>-1.637e+04</td> <td> 1.54e+05</td> <td>   -0.106</td> <td> 0.915</td> <td>-3.19e+05</td> <td> 2.86e+05</td>\n",
       "</tr>\n",
       "<tr>\n",
       "  <th>x2</th>    <td> 1.651e+06</td> <td> 1.58e+05</td> <td>   10.484</td> <td> 0.000</td> <td> 1.34e+06</td> <td> 1.96e+06</td>\n",
       "</tr>\n",
       "<tr>\n",
       "  <th>x3</th>    <td> 2.586e+05</td> <td> 1.15e+05</td> <td>    2.244</td> <td> 0.025</td> <td> 3.25e+04</td> <td> 4.85e+05</td>\n",
       "</tr>\n",
       "<tr>\n",
       "  <th>x4</th>    <td>-2.309e+05</td> <td> 1.39e+05</td> <td>   -1.664</td> <td> 0.096</td> <td>-5.03e+05</td> <td> 4.13e+04</td>\n",
       "</tr>\n",
       "<tr>\n",
       "  <th>x5</th>    <td>-7.428e+04</td> <td> 5.71e+04</td> <td>   -1.302</td> <td> 0.193</td> <td>-1.86e+05</td> <td> 3.77e+04</td>\n",
       "</tr>\n",
       "<tr>\n",
       "  <th>x6</th>    <td> 7.428e+04</td> <td> 5.71e+04</td> <td>    1.302</td> <td> 0.193</td> <td>-3.77e+04</td> <td> 1.86e+05</td>\n",
       "</tr>\n",
       "<tr>\n",
       "  <th>x7</th>    <td>-8382.3803</td> <td> 1.12e+05</td> <td>   -0.075</td> <td> 0.940</td> <td>-2.27e+05</td> <td> 2.11e+05</td>\n",
       "</tr>\n",
       "<tr>\n",
       "  <th>x8</th>    <td>-9.543e+04</td> <td> 1.23e+05</td> <td>   -0.775</td> <td> 0.439</td> <td>-3.37e+05</td> <td> 1.46e+05</td>\n",
       "</tr>\n",
       "<tr>\n",
       "  <th>x9</th>    <td>-6.352e+05</td> <td>  1.2e+05</td> <td>   -5.273</td> <td> 0.000</td> <td>-8.72e+05</td> <td>-3.99e+05</td>\n",
       "</tr>\n",
       "<tr>\n",
       "  <th>x10</th>   <td> 1.521e+06</td> <td> 1.24e+05</td> <td>   12.280</td> <td> 0.000</td> <td> 1.28e+06</td> <td> 1.76e+06</td>\n",
       "</tr>\n",
       "<tr>\n",
       "  <th>x11</th>   <td> 1.105e+06</td> <td> 1.27e+05</td> <td>    8.697</td> <td> 0.000</td> <td> 8.56e+05</td> <td> 1.35e+06</td>\n",
       "</tr>\n",
       "</table>\n",
       "<table class=\"simpletable\">\n",
       "<tr>\n",
       "  <th>Omnibus:</th>       <td>1635.767</td> <th>  Durbin-Watson:     </th>  <td>   2.001</td> \n",
       "</tr>\n",
       "<tr>\n",
       "  <th>Prob(Omnibus):</th>  <td> 0.000</td>  <th>  Jarque-Bera (JB):  </th> <td>833992.426</td>\n",
       "</tr>\n",
       "<tr>\n",
       "  <th>Skew:</th>           <td> 8.763</td>  <th>  Prob(JB):          </th>  <td>    0.00</td> \n",
       "</tr>\n",
       "<tr>\n",
       "  <th>Kurtosis:</th>       <td>138.131</td> <th>  Cond. No.          </th>  <td>3.33e+15</td> \n",
       "</tr>\n",
       "</table><br/><br/>Notes:<br/>[1] Standard Errors assume that the covariance matrix of the errors is correctly specified.<br/>[2] The smallest eigenvalue is 2.28e-28. This might indicate that there are<br/>strong multicollinearity problems or that the design matrix is singular."
      ],
      "text/plain": [
       "<class 'statsmodels.iolib.summary.Summary'>\n",
       "\"\"\"\n",
       "                            OLS Regression Results                            \n",
       "==============================================================================\n",
       "Dep. Variable:                  price   R-squared:                       0.335\n",
       "Model:                            OLS   Adj. R-squared:                  0.329\n",
       "Method:                 Least Squares   F-statistic:                     53.83\n",
       "Date:                Tue, 08 Jun 2021   Prob (F-statistic):           1.01e-87\n",
       "Time:                        17:12:34   Log-Likelihood:                -17816.\n",
       "No. Observations:                1078   AIC:                         3.565e+04\n",
       "Df Residuals:                    1067   BIC:                         3.571e+04\n",
       "Df Model:                          10                                         \n",
       "Covariance Type:            nonrobust                                         \n",
       "==============================================================================\n",
       "                 coef    std err          t      P>|t|      [0.025      0.975]\n",
       "------------------------------------------------------------------------------\n",
       "const       1.651e+06   1.11e+05     14.815      0.000    1.43e+06    1.87e+06\n",
       "x1         -1.637e+04   1.54e+05     -0.106      0.915   -3.19e+05    2.86e+05\n",
       "x2          1.651e+06   1.58e+05     10.484      0.000    1.34e+06    1.96e+06\n",
       "x3          2.586e+05   1.15e+05      2.244      0.025    3.25e+04    4.85e+05\n",
       "x4         -2.309e+05   1.39e+05     -1.664      0.096   -5.03e+05    4.13e+04\n",
       "x5         -7.428e+04   5.71e+04     -1.302      0.193   -1.86e+05    3.77e+04\n",
       "x6          7.428e+04   5.71e+04      1.302      0.193   -3.77e+04    1.86e+05\n",
       "x7         -8382.3803   1.12e+05     -0.075      0.940   -2.27e+05    2.11e+05\n",
       "x8         -9.543e+04   1.23e+05     -0.775      0.439   -3.37e+05    1.46e+05\n",
       "x9         -6.352e+05    1.2e+05     -5.273      0.000   -8.72e+05   -3.99e+05\n",
       "x10         1.521e+06   1.24e+05     12.280      0.000    1.28e+06    1.76e+06\n",
       "x11         1.105e+06   1.27e+05      8.697      0.000    8.56e+05    1.35e+06\n",
       "==============================================================================\n",
       "Omnibus:                     1635.767   Durbin-Watson:                   2.001\n",
       "Prob(Omnibus):                  0.000   Jarque-Bera (JB):           833992.426\n",
       "Skew:                           8.763   Prob(JB):                         0.00\n",
       "Kurtosis:                     138.131   Cond. No.                     3.33e+15\n",
       "==============================================================================\n",
       "\n",
       "Notes:\n",
       "[1] Standard Errors assume that the covariance matrix of the errors is correctly specified.\n",
       "[2] The smallest eigenvalue is 2.28e-28. This might indicate that there are\n",
       "strong multicollinearity problems or that the design matrix is singular.\n",
       "\"\"\""
      ]
     },
     "execution_count": 112,
     "metadata": {},
     "output_type": "execute_result"
    }
   ],
   "source": [
    "#Create the model\n",
    "model = sm.OLS(y_train, sm.add_constant(X_tr)) \n",
    "\n",
    "#Fit\n",
    "fit = model.fit()\n",
    "\n",
    "#Print out summary\n",
    "fit.summary()"
   ]
  },
  {
   "cell_type": "markdown",
   "metadata": {},
   "source": [
    "## Diagnostic Plots"
   ]
  },
  {
   "cell_type": "code",
   "execution_count": 113,
   "metadata": {},
   "outputs": [],
   "source": [
    "import scipy.stats as stats\n",
    "def diagnostic_plots(y_pred, y_true, resid):\n",
    "    fig, axes = plt.subplots(1, 3, figsize=(10, 4))\n",
    "\n",
    "    g1 = sns.regplot(x=y_pred, y=y_true, ci=False, fit_reg=False, line_kws={'color': 'blue'}, ax=axes[0], scatter_kws={'s': 5})\n",
    "    g1.set_xlabel('Predicted Target')\n",
    "    g1.set_ylabel('True Target')\n",
    "    g1.plot(y_true, y_true, '--', color='gray')\n",
    "\n",
    "    g2 = sns.regplot(x=y_pred, y=resid, lowess=True, ax=axes[1], line_kws={'color': 'red'}, scatter_kws={'s': 5})\n",
    "    g2.set_xlabel('Predicted Target')\n",
    "    g2.set_ylabel('Residual')\n",
    "    g2.axhline(y=0, color='gray', linestyle='--')\n",
    "\n",
    "    stats.probplot(resid, dist=\"norm\", plot=axes[2])\n",
    "\n",
    "    fig.suptitle('Diagnostic Plots');\n",
    "    fig.tight_layout();"
   ]
  },
  {
   "cell_type": "code",
   "execution_count": 114,
   "metadata": {},
   "outputs": [
    {
     "data": {
      "image/png": "[encoded data removed]",
      "text/plain": [
       "<Figure size 720x288 with 3 Axes>"
      ]
     },
     "metadata": {},
     "output_type": "display_data"
    }
   ],
   "source": [
    "diagnostic_plots(fit.fittedvalues, y_train, fit.resid)"
   ]
  },
  {
   "cell_type": "markdown",
   "metadata": {},
   "source": [
    "- In the left plot the points are bunched up, to fix this we may need to log transform our target\n",
    "\n",
    "\n",
    "\n",
    "- In the middle plot the line is relatively horizontal, but the points are not random. There seems to be little variability on the left hand side and a lot of variability on the right hand rise. The values also seem to be increasing. These observations would then violate the assumption of homoskadaskicity of variance. A solution may be to ulilize a box-cox transformation may help normalize the distribution. Could try to log transform or sqrt transform as well. \n",
    "\n",
    "\n",
    "\n",
    "- In the right plot the values approximate the red line well in the beginning and then tail off at the larger values. To fix this problem we could square the values or log transform."
   ]
  },
  {
   "cell_type": "code",
   "execution_count": null,
   "metadata": {},
   "outputs": [],
   "source": []
  },
  {
   "cell_type": "code",
   "execution_count": null,
   "metadata": {},
   "outputs": [],
   "source": []
  },
  {
   "cell_type": "code",
   "execution_count": null,
   "metadata": {},
   "outputs": [],
   "source": []
  }
 ],
 "metadata": {
  "kernelspec": {
   "display_name": "Python 3",
   "language": "python",
   "name": "python3"
  },
  "language_info": {
   "codemirror_mode": {
    "name": "ipython",
    "version": 3
   },
   "file_extension": ".py",
   "mimetype": "text/x-python",
   "name": "python",
   "nbconvert_exporter": "python",
   "pygments_lexer": "ipython3",
   "version": "3.8.5"
  }
 },
 "nbformat": 4,
 "nbformat_minor": 4
}
